{
 "cells": [
  {
   "cell_type": "code",
   "execution_count": 2,
   "metadata": {},
   "outputs": [],
   "source": [
    "import ee\n",
    "import geopandas as gpd\n",
    "import geemap\n",
    "import os\n",
    "from datetime import datetime\n",
    "\n",
    "from fwi_predict.geo.ee import get_gfs"
   ]
  },
  {
   "cell_type": "code",
   "execution_count": 3,
   "metadata": {},
   "outputs": [
    {
     "data": {
      "text/html": [
       "\n",
       "            <style>\n",
       "                .geemap-dark {\n",
       "                    --jp-widgets-color: white;\n",
       "                    --jp-widgets-label-color: white;\n",
       "                    --jp-ui-font-color1: white;\n",
       "                    --jp-layout-color2: #454545;\n",
       "                    background-color: #383838;\n",
       "                }\n",
       "\n",
       "                .geemap-dark .jupyter-button {\n",
       "                    --jp-layout-color3: #383838;\n",
       "                }\n",
       "\n",
       "                .geemap-colab {\n",
       "                    background-color: var(--colab-primary-surface-color, white);\n",
       "                }\n",
       "\n",
       "                .geemap-colab .jupyter-button {\n",
       "                    --jp-layout-color3: var(--colab-primary-surface-color, white);\n",
       "                }\n",
       "            </style>\n",
       "            "
      ],
      "text/plain": [
       "<IPython.core.display.HTML object>"
      ]
     },
     "metadata": {},
     "output_type": "display_data"
    }
   ],
   "source": [
    "ee.Initialize(project='fwi-water-quality-sensing')"
   ]
  },
  {
   "cell_type": "code",
   "execution_count": 4,
   "metadata": {},
   "outputs": [
    {
     "data": {
      "text/html": [
       "\n",
       "            <style>\n",
       "                .geemap-dark {\n",
       "                    --jp-widgets-color: white;\n",
       "                    --jp-widgets-label-color: white;\n",
       "                    --jp-ui-font-color1: white;\n",
       "                    --jp-layout-color2: #454545;\n",
       "                    background-color: #383838;\n",
       "                }\n",
       "\n",
       "                .geemap-dark .jupyter-button {\n",
       "                    --jp-layout-color3: #383838;\n",
       "                }\n",
       "\n",
       "                .geemap-colab {\n",
       "                    background-color: var(--colab-primary-surface-color, white);\n",
       "                }\n",
       "\n",
       "                .geemap-colab .jupyter-button {\n",
       "                    --jp-layout-color3: var(--colab-primary-surface-color, white);\n",
       "                }\n",
       "            </style>\n",
       "            "
      ],
      "text/plain": [
       "<IPython.core.display.HTML object>"
      ]
     },
     "metadata": {},
     "output_type": "display_data"
    }
   ],
   "source": [
    "fp = \"../data/clean/measurements_with_metadata.geojson\"\n",
    "measurements = gpd.read_file(fp)"
   ]
  },
  {
   "cell_type": "code",
   "execution_count": 5,
   "metadata": {},
   "outputs": [
    {
     "data": {
      "text/html": [
       "\n",
       "            <style>\n",
       "                .geemap-dark {\n",
       "                    --jp-widgets-color: white;\n",
       "                    --jp-widgets-label-color: white;\n",
       "                    --jp-ui-font-color1: white;\n",
       "                    --jp-layout-color2: #454545;\n",
       "                    background-color: #383838;\n",
       "                }\n",
       "\n",
       "                .geemap-dark .jupyter-button {\n",
       "                    --jp-layout-color3: #383838;\n",
       "                }\n",
       "\n",
       "                .geemap-colab {\n",
       "                    background-color: var(--colab-primary-surface-color, white);\n",
       "                }\n",
       "\n",
       "                .geemap-colab .jupyter-button {\n",
       "                    --jp-layout-color3: var(--colab-primary-surface-color, white);\n",
       "                }\n",
       "            </style>\n",
       "            "
      ],
      "text/plain": [
       "<IPython.core.display.HTML object>"
      ]
     },
     "metadata": {},
     "output_type": "display_data"
    }
   ],
   "source": [
    "gfs = get_gfs()"
   ]
  },
  {
   "cell_type": "code",
   "execution_count": 6,
   "metadata": {},
   "outputs": [
    {
     "data": {
      "text/html": [
       "\n",
       "            <style>\n",
       "                .geemap-dark {\n",
       "                    --jp-widgets-color: white;\n",
       "                    --jp-widgets-label-color: white;\n",
       "                    --jp-ui-font-color1: white;\n",
       "                    --jp-layout-color2: #454545;\n",
       "                    background-color: #383838;\n",
       "                }\n",
       "\n",
       "                .geemap-dark .jupyter-button {\n",
       "                    --jp-layout-color3: #383838;\n",
       "                }\n",
       "\n",
       "                .geemap-colab {\n",
       "                    background-color: var(--colab-primary-surface-color, white);\n",
       "                }\n",
       "\n",
       "                .geemap-colab .jupyter-button {\n",
       "                    --jp-layout-color3: var(--colab-primary-surface-color, white);\n",
       "                }\n",
       "            </style>\n",
       "            "
      ],
      "text/plain": [
       "<IPython.core.display.HTML object>"
      ]
     },
     "metadata": {},
     "output_type": "display_data"
    }
   ],
   "source": [
    "# Load measurements into EE feature collection\n",
    "measurements['sample_dt'] = measurements['sample_dt']\n",
    "fc = geemap.gdf_to_ee(measurements)\n",
    "fc = fc.map(lambda f: f.set('sample_dt', ee.Date(f.get('sample_dt'))))"
   ]
  },
  {
   "cell_type": "code",
   "execution_count": 7,
   "metadata": {},
   "outputs": [
    {
     "data": {
      "text/html": [
       "\n",
       "            <style>\n",
       "                .geemap-dark {\n",
       "                    --jp-widgets-color: white;\n",
       "                    --jp-widgets-label-color: white;\n",
       "                    --jp-ui-font-color1: white;\n",
       "                    --jp-layout-color2: #454545;\n",
       "                    background-color: #383838;\n",
       "                }\n",
       "\n",
       "                .geemap-dark .jupyter-button {\n",
       "                    --jp-layout-color3: #383838;\n",
       "                }\n",
       "\n",
       "                .geemap-colab {\n",
       "                    background-color: var(--colab-primary-surface-color, white);\n",
       "                }\n",
       "\n",
       "                .geemap-colab .jupyter-button {\n",
       "                    --jp-layout-color3: var(--colab-primary-surface-color, white);\n",
       "                }\n",
       "            </style>\n",
       "            "
      ],
      "text/plain": [
       "<IPython.core.display.HTML object>"
      ]
     },
     "metadata": {},
     "output_type": "display_data"
    }
   ],
   "source": [
    "forecast_times = [3, 9, 15, 36, 0, -12, -36, -60]"
   ]
  },
  {
   "cell_type": "code",
   "execution_count": 8,
   "metadata": {},
   "outputs": [
    {
     "data": {
      "text/html": [
       "\n",
       "            <style>\n",
       "                .geemap-dark {\n",
       "                    --jp-widgets-color: white;\n",
       "                    --jp-widgets-label-color: white;\n",
       "                    --jp-ui-font-color1: white;\n",
       "                    --jp-layout-color2: #454545;\n",
       "                    background-color: #383838;\n",
       "                }\n",
       "\n",
       "                .geemap-dark .jupyter-button {\n",
       "                    --jp-layout-color3: #383838;\n",
       "                }\n",
       "\n",
       "                .geemap-colab {\n",
       "                    background-color: var(--colab-primary-surface-color, white);\n",
       "                }\n",
       "\n",
       "                .geemap-colab .jupyter-button {\n",
       "                    --jp-layout-color3: var(--colab-primary-surface-color, white);\n",
       "                }\n",
       "            </style>\n",
       "            "
      ],
      "text/plain": [
       "<IPython.core.display.HTML object>"
      ]
     },
     "metadata": {},
     "output_type": "display_data"
    }
   ],
   "source": [
    "# Map over the dates to get forecasts for each date\n",
    "from typing import List\n",
    "\n",
    "def get_sample_gfs_forecast(sample: ee.Feature,\n",
    "\t\t\t\t\t\t\t              forecast_times: List,\n",
    "\t\t\t\t\t\t\t              gfs: ee.ImageCollection = None) -> ee.FeatureCollection:\n",
    "  \"\"\"Add docstring.\"\"\"\n",
    "\n",
    "\t# Get GFS data\n",
    "  if gfs is None:\n",
    "    gfs = get_gfs()\n",
    "  \n",
    "  # Get times for which we want forecasts.\n",
    "  sample_dt = ee.Date(sample.get('sample_dt'))\n",
    "  day_prior = sample_dt \\\n",
    "    .advance(5.5, 'hour') \\\n",
    "    .advance(-1, 'day') \\\n",
    "    .update(hour=0, minute=0, second=0) #Have to adjust for Asia/Kolkata timezone before finding previous day.\n",
    "  \n",
    "  forecast_time_list = ee.List(forecast_times).map(\n",
    "    lambda hours: day_prior.advance(hours, 'hour').advance(-6, 'hour').millis() # Again adjusting for timezone so forecasts don't overlap with sample time\n",
    "  )\n",
    "\n",
    "  # Pre-filter GFS to reduce computation\n",
    "  search_window = max(forecast_times) - min(forecast_times) + 24\n",
    "\n",
    "  forecast_subset = gfs.filterDate( \n",
    "    ee.Date(forecast_time_list.get(1)).advance(-search_window, 'hour'), # Earliest forecast initialization time we are interested in \n",
    "    sample_dt.advance(-1, 'day') # Want forecasts initialized one day before sample was taken.\n",
    "  )\n",
    "\n",
    "  # Get latest forecast for each forecast (that is at least one day older than sample time)\n",
    "  def get_latest_forecast_for_time(forecast_time: ee.Number) -> ee.Image:\n",
    "    \"\"\"Get most recent forecast for a given forecast time.\"\"\"\n",
    "    # Get frecast for specific time of interest\n",
    "    subset = forecast_subset \\\n",
    "      .filter(ee.Filter.lt('creation_time', forecast_time)) \\\n",
    "      .filter(ee.Filter.eq('forecast_time', forecast_time)) # Less than in first so we get all datapoints.\n",
    "   \n",
    "    # Then get most recent forecast\n",
    "    latest_init_time = subset.aggregate_array('creation_time').sort().get(-1)\n",
    "\n",
    "    return subset.filter(ee.Filter.eq('creation_time', latest_init_time)).first()\n",
    "  \n",
    "  \n",
    "  # Extract forecast values\n",
    "  forecasts_for_times = ee.ImageCollection(\n",
    "    forecast_time_list.map(get_latest_forecast_for_time)\n",
    "  )\n",
    "\n",
    "  # Assign metadata to forecast values and cumulative values\n",
    "  forecast_values = forecasts_for_times \\\n",
    "    .map(lambda img: img.sample(sample.geometry())) \\\n",
    "    .flatten() \\\n",
    "    .map(lambda f: f # Set metadata\n",
    "      .set('forecast_creation_dt', f.id().slice(0, 10)) # Same as below\n",
    "      .set('forecast_time', f.id().slice(11, 14)) # Would be good to make this less hacky\n",
    "      .set('sample_idx', sample.get('sample_idx'))\n",
    "    )\n",
    "\n",
    "    # Get forecast at time of sample\n",
    "  sample_dt_rounded = sample_dt \\\n",
    "    .millis() \\\n",
    "    .divide(1000 * 60 * 60) \\\n",
    "    .round() \\\n",
    "    .multiply(1000 * 60 * 60) # Round sample time to nearest hour\n",
    "  sample_time_forecast = ee.Image(get_latest_forecast_for_time(sample_dt_rounded))\n",
    "\n",
    "  id = sample_time_forecast.getString('system:id').split(\"/\").getString(2)\n",
    "  sample_time_forecast = sample_time_forecast \\\n",
    "    .sample(sample.geometry()) \\\n",
    "    .first()\n",
    "  \n",
    "  sample_time_forecast = sample_time_forecast \\\n",
    "    .set('forecast_creation_dt', id.slice(0, 10)) \\\n",
    "    .set('forecast_time', 'sample') \\\n",
    "    .set('sample_idx', sample.get('sample_idx'))\n",
    "\n",
    "  # Get cumulative values for the week prior to the sample time\n",
    "  # 9 AM UTC is 3:30 PM IST\n",
    "  def get_cumulative_history(lookback_days: ee.Number) -> ee.FeatureCollection:\n",
    "    \"\"\"Get cumulative history for a given number of days.\"\"\"\n",
    "    cum_days = ee.List.sequence(0, ee.Number(lookback_days).multiply(-1), step=-1)\n",
    "    gfs_subset = gfs.filterDate(\n",
    "      day_prior.advance(ee.Number(cum_days.sort().get(0)).subtract(1), 'day'),\n",
    "      sample_dt\n",
    "    )\n",
    "\n",
    "    # Ought to check that you are summing correct number of days for each\n",
    "    global_history = ee.ImageCollection(\n",
    "      cum_days\n",
    "      .map(lambda day: day_prior.advance(day, 'day').update(hour=9).millis())\n",
    "      .map(lambda f_time: gfs_subset.filter(ee.Filter.eq('forecast_time', f_time)).sort('creation_time', False).first())\n",
    "    )\n",
    "    global_aggregate = global_history.reduce(ee.Reducer.sum())\n",
    "    \n",
    "    cum_values = ee.Image(global_aggregate)\n",
    "    cum_values = cum_values \\\n",
    "      .rename(cum_values.bandNames().map(lambda name: ee.String(name).slice(0, -4))) \\\n",
    "      .sample(sample.geometry()) \\\n",
    "      .first() # Remove sum from end of band names\n",
    "\n",
    "    return cum_values\n",
    "  \n",
    "  three_day_history = get_cumulative_history(3)\n",
    "  week_history = get_cumulative_history(7)\n",
    "\n",
    "  three_day_history = three_day_history \\\n",
    "    .set('sample_idx', sample.get('sample_idx')) \\\n",
    "    .set('forecast_time', 'three_day_cum')\n",
    "  \n",
    "  week_history = week_history \\\n",
    "    .set('sample_idx', sample.get('sample_idx')) \\\n",
    "    .set('forecast_time', 'seven_day_cum')\n",
    "\n",
    "  # Merge and return\n",
    "  forecast_values = forecast_values.merge(ee.FeatureCollection([sample_time_forecast, three_day_history, week_history]))\n",
    "  \n",
    "  return forecast_values"
   ]
  },
  {
   "cell_type": "code",
   "execution_count": 9,
   "metadata": {},
   "outputs": [
    {
     "data": {
      "text/html": [
       "\n",
       "            <style>\n",
       "                .geemap-dark {\n",
       "                    --jp-widgets-color: white;\n",
       "                    --jp-widgets-label-color: white;\n",
       "                    --jp-ui-font-color1: white;\n",
       "                    --jp-layout-color2: #454545;\n",
       "                    background-color: #383838;\n",
       "                }\n",
       "\n",
       "                .geemap-dark .jupyter-button {\n",
       "                    --jp-layout-color3: #383838;\n",
       "                }\n",
       "\n",
       "                .geemap-colab {\n",
       "                    background-color: var(--colab-primary-surface-color, white);\n",
       "                }\n",
       "\n",
       "                .geemap-colab .jupyter-button {\n",
       "                    --jp-layout-color3: var(--colab-primary-surface-color, white);\n",
       "                }\n",
       "            </style>\n",
       "            "
      ],
      "text/plain": [
       "<IPython.core.display.HTML object>"
      ]
     },
     "metadata": {},
     "output_type": "display_data"
    }
   ],
   "source": [
    "result = fc.map(lambda f: get_sample_gfs_forecast(f, forecast_times)).flatten()"
   ]
  },
  {
   "cell_type": "markdown",
   "metadata": {},
   "source": [
    "### Later write config that logs what function was used to download the file."
   ]
  },
  {
   "cell_type": "code",
   "execution_count": 10,
   "metadata": {},
   "outputs": [
    {
     "data": {
      "text/html": [
       "\n",
       "            <style>\n",
       "                .geemap-dark {\n",
       "                    --jp-widgets-color: white;\n",
       "                    --jp-widgets-label-color: white;\n",
       "                    --jp-ui-font-color1: white;\n",
       "                    --jp-layout-color2: #454545;\n",
       "                    background-color: #383838;\n",
       "                }\n",
       "\n",
       "                .geemap-dark .jupyter-button {\n",
       "                    --jp-layout-color3: #383838;\n",
       "                }\n",
       "\n",
       "                .geemap-colab {\n",
       "                    background-color: var(--colab-primary-surface-color, white);\n",
       "                }\n",
       "\n",
       "                .geemap-colab .jupyter-button {\n",
       "                    --jp-layout-color3: var(--colab-primary-surface-color, white);\n",
       "                }\n",
       "            </style>\n",
       "            "
      ],
      "text/plain": [
       "<IPython.core.display.HTML object>"
      ]
     },
     "metadata": {},
     "output_type": "display_data"
    }
   ],
   "source": [
    "current_time = datetime.now().strftime(\"%Y-%m-%d_%H-%M-%S\")\n",
    "filename = os.path.splitext(os.path.basename(fp))[0] + '_' + current_time\n",
    "task = ee.batch.Export.table.toCloudStorage(\n",
    "  collection=result,\n",
    "  description='gfs_forecast_export',\n",
    "  bucket='fwi-predict',\n",
    "  fileNamePrefix=f'train/gfs/{filename}',\n",
    "  fileFormat='CSV'\n",
    ")\n",
    "task.start()"
   ]
  }
 ],
 "metadata": {
  "kernelspec": {
   "display_name": ".venv",
   "language": "python",
   "name": "python3"
  },
  "language_info": {
   "codemirror_mode": {
    "name": "ipython",
    "version": 3
   },
   "file_extension": ".py",
   "mimetype": "text/x-python",
   "name": "python",
   "nbconvert_exporter": "python",
   "pygments_lexer": "ipython3",
   "version": "3.12.7"
  }
 },
 "nbformat": 4,
 "nbformat_minor": 2
}
