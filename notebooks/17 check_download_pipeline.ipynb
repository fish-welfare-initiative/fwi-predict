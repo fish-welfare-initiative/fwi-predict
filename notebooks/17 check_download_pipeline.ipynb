{
 "cells": [
  {
   "cell_type": "code",
   "execution_count": 1,
   "metadata": {},
   "outputs": [],
   "source": [
    "%load_ext autoreload\n",
    "%autoreload 2\n",
    "\n",
    "from datetime import datetime, timezone\n",
    "from typing import List\n",
    "\n",
    "import ee\n",
    "import geemap\n",
    "import geopandas as gpd\n",
    "import pandas as pd\n",
    "import pytz\n",
    "\n",
    "from fwi_predict.constants import FORECAST_TIMES\n",
    "from fwi_predict.geo.ee import get_gfs"
   ]
  },
  {
   "cell_type": "code",
   "execution_count": 2,
   "metadata": {},
   "outputs": [
    {
     "data": {
      "text/html": [
       "\n",
       "            <style>\n",
       "                .geemap-dark {\n",
       "                    --jp-widgets-color: white;\n",
       "                    --jp-widgets-label-color: white;\n",
       "                    --jp-ui-font-color1: white;\n",
       "                    --jp-layout-color2: #454545;\n",
       "                    background-color: #383838;\n",
       "                }\n",
       "\n",
       "                .geemap-dark .jupyter-button {\n",
       "                    --jp-layout-color3: #383838;\n",
       "                }\n",
       "\n",
       "                .geemap-colab {\n",
       "                    background-color: var(--colab-primary-surface-color, white);\n",
       "                }\n",
       "\n",
       "                .geemap-colab .jupyter-button {\n",
       "                    --jp-layout-color3: var(--colab-primary-surface-color, white);\n",
       "                }\n",
       "            </style>\n",
       "            "
      ],
      "text/plain": [
       "<IPython.core.display.HTML object>"
      ]
     },
     "metadata": {},
     "output_type": "display_data"
    }
   ],
   "source": [
    "ee.Initialize()"
   ]
  },
  {
   "cell_type": "code",
   "execution_count": 3,
   "metadata": {},
   "outputs": [
    {
     "data": {
      "text/html": [
       "\n",
       "            <style>\n",
       "                .geemap-dark {\n",
       "                    --jp-widgets-color: white;\n",
       "                    --jp-widgets-label-color: white;\n",
       "                    --jp-ui-font-color1: white;\n",
       "                    --jp-layout-color2: #454545;\n",
       "                    background-color: #383838;\n",
       "                }\n",
       "\n",
       "                .geemap-dark .jupyter-button {\n",
       "                    --jp-layout-color3: #383838;\n",
       "                }\n",
       "\n",
       "                .geemap-colab {\n",
       "                    background-color: var(--colab-primary-surface-color, white);\n",
       "                }\n",
       "\n",
       "                .geemap-colab .jupyter-button {\n",
       "                    --jp-layout-color3: var(--colab-primary-surface-color, white);\n",
       "                }\n",
       "            </style>\n",
       "            "
      ],
      "text/plain": [
       "<IPython.core.display.HTML object>"
      ]
     },
     "metadata": {},
     "output_type": "display_data"
    }
   ],
   "source": [
    "def get_sample_gfs_forecast(sample: ee.Feature,\n",
    "\t\t\t\t\t\t\t              forecast_times: List,\n",
    "\t\t\t\t\t\t\t              gfs: ee.ImageCollection = None) -> ee.FeatureCollection:\n",
    "\t\"\"\"Add docstring.\"\"\"\n",
    "\tif gfs is None:\n",
    "\t\tgfs = get_gfs()\n",
    "\n",
    "\n",
    "\t# Get times for which we want forecasts.\n",
    "\tsample_idx = sample.get('sample_idx') # Get sample index\n",
    "\tsample_dt = ee.Date(sample.get('sample_dt'))\n",
    "\tday_prior = sample_dt \\\n",
    "\t\t.advance(5.5, 'hour') \\\n",
    "    .advance(-1, 'day') \\\n",
    "    .update(hour=0, minute=0, second=0)\n",
    "  \n",
    "\tforecast_time_list = ee.List(forecast_times).map(\n",
    "    lambda hours: day_prior.advance(hours, 'hour').advance(-6, 'hour').millis() # Again adjusting for timezone so forecasts don't overlap with sample time\n",
    "  )\n",
    "\n",
    "  # Pre-filter GFS to reduce computation\n",
    "\tforecast_subset = gfs.filterDate( \n",
    "    ee.Date(forecast_time_list.sort().getNumber(0)).advance(-1, 'day'), # Earliest forecast initialization time we are interested in \n",
    "    day_prior # Want forecasts initialized one day before sample was taken (5:30am IST)\n",
    "  )\n",
    "\n",
    "  # Get latest forecast for each forecast (that is at least one day older than sample time)\n",
    "\tdef get_latest_forecast_for_time(forecast_time: ee.Number) -> ee.Image:\n",
    "\t\t\"\"\"Get most recent forecast for a given forecast time.\"\"\"\n",
    "    # Get frecast for specific time of interest\n",
    "\t\tsubset = forecast_subset \\\n",
    "\t\t\t.filter(ee.Filter.lt('creation_time', forecast_time)) \\\n",
    "\t\t\t.filter(ee.Filter.eq('forecast_time', forecast_time))\n",
    "      \n",
    "    # Then get most recent forecast\n",
    "\t\tlatest_init_time = subset.aggregate_array('creation_time').sort().get(-1)\n",
    "\t\n",
    "\t\treturn subset.filter(ee.Filter.eq('creation_time', latest_init_time)).first()\n",
    "  \n",
    "  \n",
    "  # Extract forecast values\n",
    "\tforecasts_for_times = ee.ImageCollection(\n",
    "    forecast_time_list.map(get_latest_forecast_for_time)\n",
    "  )\n",
    "\n",
    "\treturn forecasts_for_times\n",
    "\t\n",
    "  # Assign metadata to forecast values and cumulative values\n",
    "\tforecast_values = forecasts_for_times \\\n",
    "    .map(lambda img: img.sample(sample.geometry())) \\\n",
    "    .flatten() \\\n",
    "    .map(lambda f: f # Set metadata\n",
    "      .set('forecast_creation_dt', f.id().slice(0, 10)) # Same as below\n",
    "      .set('forecast_hour', f.id().slice(11, 14)) # Would be good to make this less hacky\n",
    "      .set('sample_idx', sample_idx)\n",
    "    )\n",
    "\t\n",
    "\t# Map each element of forecast_time_list to each feature of forecast_values\n",
    "\tforecast_values_list = forecast_values.toList(forecast_values.size())\n",
    "\tforecast_values = ee.FeatureCollection(\n",
    "\t\tforecast_values.map(lambda f: f.set('forecast_time', \n",
    "\t\t\tee.List(forecast_times).get(forecast_values_list.indexOf(f))))\n",
    "\t)\n",
    "\n",
    "  # Get forecast at time of sample\n",
    "\tsample_dt_rounded = sample_dt \\\n",
    "    .millis() \\\n",
    "    .divide(1000 * 60 * 60) \\\n",
    "    .round() \\\n",
    "    .multiply(1000 * 60 * 60) # Round sample time to nearest hour\n",
    "\tsample_time_forecast = ee.Image(get_latest_forecast_for_time(sample_dt_rounded))\n",
    "\n",
    "\treturn sample_time_forecast"
   ]
  },
  {
   "cell_type": "code",
   "execution_count": 4,
   "metadata": {},
   "outputs": [
    {
     "data": {
      "text/html": [
       "\n",
       "            <style>\n",
       "                .geemap-dark {\n",
       "                    --jp-widgets-color: white;\n",
       "                    --jp-widgets-label-color: white;\n",
       "                    --jp-ui-font-color1: white;\n",
       "                    --jp-layout-color2: #454545;\n",
       "                    background-color: #383838;\n",
       "                }\n",
       "\n",
       "                .geemap-dark .jupyter-button {\n",
       "                    --jp-layout-color3: #383838;\n",
       "                }\n",
       "\n",
       "                .geemap-colab {\n",
       "                    background-color: var(--colab-primary-surface-color, white);\n",
       "                }\n",
       "\n",
       "                .geemap-colab .jupyter-button {\n",
       "                    --jp-layout-color3: var(--colab-primary-surface-color, white);\n",
       "                }\n",
       "            </style>\n",
       "            "
      ],
      "text/plain": [
       "<IPython.core.display.HTML object>"
      ]
     },
     "metadata": {},
     "output_type": "display_data"
    }
   ],
   "source": [
    "ds = gpd.read_file(\"../data/clean/measurements_with_metadata.geojson\")\n",
    "temp = ds.iloc[3380:3383]\n",
    "ee_frame = geemap.gdf_to_ee(temp, date='sample_dt', date_format=\"yyyy-MM-dd'T'HH:mm:ssZ\")"
   ]
  },
  {
   "cell_type": "code",
   "execution_count": 5,
   "metadata": {},
   "outputs": [
    {
     "data": {
      "text/html": [
       "\n",
       "            <style>\n",
       "                .geemap-dark {\n",
       "                    --jp-widgets-color: white;\n",
       "                    --jp-widgets-label-color: white;\n",
       "                    --jp-ui-font-color1: white;\n",
       "                    --jp-layout-color2: #454545;\n",
       "                    background-color: #383838;\n",
       "                }\n",
       "\n",
       "                .geemap-dark .jupyter-button {\n",
       "                    --jp-layout-color3: #383838;\n",
       "                }\n",
       "\n",
       "                .geemap-colab {\n",
       "                    background-color: var(--colab-primary-surface-color, white);\n",
       "                }\n",
       "\n",
       "                .geemap-colab .jupyter-button {\n",
       "                    --jp-layout-color3: var(--colab-primary-surface-color, white);\n",
       "                }\n",
       "            </style>\n",
       "            "
      ],
      "text/plain": [
       "<IPython.core.display.HTML object>"
      ]
     },
     "metadata": {},
     "output_type": "display_data"
    },
    {
     "data": {
      "text/plain": [
       "'2022-04-23 01:13:00'"
      ]
     },
     "execution_count": 5,
     "metadata": {},
     "output_type": "execute_result"
    }
   ],
   "source": [
    "out = ee.Date(ee_frame.first().get('sample_dt')).getInfo()\n",
    "datetime.fromtimestamp(out['value']/1000, tz=timezone.utc).strftime(\"%Y-%m-%d %H:%M:%S\")"
   ]
  },
  {
   "cell_type": "code",
   "execution_count": 6,
   "metadata": {},
   "outputs": [
    {
     "data": {
      "text/html": [
       "\n",
       "            <style>\n",
       "                .geemap-dark {\n",
       "                    --jp-widgets-color: white;\n",
       "                    --jp-widgets-label-color: white;\n",
       "                    --jp-ui-font-color1: white;\n",
       "                    --jp-layout-color2: #454545;\n",
       "                    background-color: #383838;\n",
       "                }\n",
       "\n",
       "                .geemap-dark .jupyter-button {\n",
       "                    --jp-layout-color3: #383838;\n",
       "                }\n",
       "\n",
       "                .geemap-colab {\n",
       "                    background-color: var(--colab-primary-surface-color, white);\n",
       "                }\n",
       "\n",
       "                .geemap-colab .jupyter-button {\n",
       "                    --jp-layout-color3: var(--colab-primary-surface-color, white);\n",
       "                }\n",
       "            </style>\n",
       "            "
      ],
      "text/plain": [
       "<IPython.core.display.HTML object>"
      ]
     },
     "metadata": {},
     "output_type": "display_data"
    }
   ],
   "source": [
    "result = ee_frame.map(lambda f: get_sample_gfs_forecast(f, FORECAST_TIMES))"
   ]
  },
  {
   "cell_type": "code",
   "execution_count": 7,
   "metadata": {},
   "outputs": [
    {
     "data": {
      "text/html": [
       "\n",
       "            <style>\n",
       "                .geemap-dark {\n",
       "                    --jp-widgets-color: white;\n",
       "                    --jp-widgets-label-color: white;\n",
       "                    --jp-ui-font-color1: white;\n",
       "                    --jp-layout-color2: #454545;\n",
       "                    background-color: #383838;\n",
       "                }\n",
       "\n",
       "                .geemap-dark .jupyter-button {\n",
       "                    --jp-layout-color3: #383838;\n",
       "                }\n",
       "\n",
       "                .geemap-colab {\n",
       "                    background-color: var(--colab-primary-surface-color, white);\n",
       "                }\n",
       "\n",
       "                .geemap-colab .jupyter-button {\n",
       "                    --jp-layout-color3: var(--colab-primary-surface-color, white);\n",
       "                }\n",
       "            </style>\n",
       "            "
      ],
      "text/plain": [
       "<IPython.core.display.HTML object>"
      ]
     },
     "metadata": {},
     "output_type": "display_data"
    }
   ],
   "source": [
    "sample = ee_frame.first()"
   ]
  },
  {
   "cell_type": "code",
   "execution_count": 8,
   "metadata": {},
   "outputs": [
    {
     "data": {
      "text/html": [
       "\n",
       "            <style>\n",
       "                .geemap-dark {\n",
       "                    --jp-widgets-color: white;\n",
       "                    --jp-widgets-label-color: white;\n",
       "                    --jp-ui-font-color1: white;\n",
       "                    --jp-layout-color2: #454545;\n",
       "                    background-color: #383838;\n",
       "                }\n",
       "\n",
       "                .geemap-dark .jupyter-button {\n",
       "                    --jp-layout-color3: #383838;\n",
       "                }\n",
       "\n",
       "                .geemap-colab {\n",
       "                    background-color: var(--colab-primary-surface-color, white);\n",
       "                }\n",
       "\n",
       "                .geemap-colab .jupyter-button {\n",
       "                    --jp-layout-color3: var(--colab-primary-surface-color, white);\n",
       "                }\n",
       "            </style>\n",
       "            "
      ],
      "text/plain": [
       "<IPython.core.display.HTML object>"
      ]
     },
     "metadata": {},
     "output_type": "display_data"
    }
   ],
   "source": [
    "gfs = get_gfs()"
   ]
  },
  {
   "cell_type": "code",
   "execution_count": 9,
   "metadata": {},
   "outputs": [
    {
     "data": {
      "text/html": [
       "\n",
       "            <style>\n",
       "                .geemap-dark {\n",
       "                    --jp-widgets-color: white;\n",
       "                    --jp-widgets-label-color: white;\n",
       "                    --jp-ui-font-color1: white;\n",
       "                    --jp-layout-color2: #454545;\n",
       "                    background-color: #383838;\n",
       "                }\n",
       "\n",
       "                .geemap-dark .jupyter-button {\n",
       "                    --jp-layout-color3: #383838;\n",
       "                }\n",
       "\n",
       "                .geemap-colab {\n",
       "                    background-color: var(--colab-primary-surface-color, white);\n",
       "                }\n",
       "\n",
       "                .geemap-colab .jupyter-button {\n",
       "                    --jp-layout-color3: var(--colab-primary-surface-color, white);\n",
       "                }\n",
       "            </style>\n",
       "            "
      ],
      "text/plain": [
       "<IPython.core.display.HTML object>"
      ]
     },
     "metadata": {},
     "output_type": "display_data"
    }
   ],
   "source": [
    "sample_idx = sample.get('sample_idx') # Get sample index\n",
    "sample_dt = ee.Date(sample.get('sample_dt'))\n",
    "day_prior = sample_dt \\\n",
    "\t.advance(5.5, 'hour') \\\n",
    "\t.advance(-1, 'day') \\\n",
    "\t.update(hour=0, minute=0, second=0)\n",
    "\n",
    "forecast_time_list = ee.List(FORECAST_TIMES).map(\n",
    "\tlambda hours: day_prior.advance(hours, 'hour').advance(-6, 'hour').millis() # Again adjusting for timezone so forecasts don't overlap with sample time\n",
    ")\n",
    "\n",
    "forecast_subset = gfs.filterDate( \n",
    "\tee.Date(forecast_time_list.sort().getNumber(0)).advance(-2, 'day'), # Earliest forecast initialization time we are interested in \n",
    "\tday_prior # Want forecasts initialized one day before sample was taken (5:30am IST)\n",
    ")"
   ]
  },
  {
   "cell_type": "code",
   "execution_count": 10,
   "metadata": {},
   "outputs": [
    {
     "data": {
      "text/html": [
       "\n",
       "            <style>\n",
       "                .geemap-dark {\n",
       "                    --jp-widgets-color: white;\n",
       "                    --jp-widgets-label-color: white;\n",
       "                    --jp-ui-font-color1: white;\n",
       "                    --jp-layout-color2: #454545;\n",
       "                    background-color: #383838;\n",
       "                }\n",
       "\n",
       "                .geemap-dark .jupyter-button {\n",
       "                    --jp-layout-color3: #383838;\n",
       "                }\n",
       "\n",
       "                .geemap-colab {\n",
       "                    background-color: var(--colab-primary-surface-color, white);\n",
       "                }\n",
       "\n",
       "                .geemap-colab .jupyter-button {\n",
       "                    --jp-layout-color3: var(--colab-primary-surface-color, white);\n",
       "                }\n",
       "            </style>\n",
       "            "
      ],
      "text/plain": [
       "<IPython.core.display.HTML object>"
      ]
     },
     "metadata": {},
     "output_type": "display_data"
    }
   ],
   "source": [
    "# Get latest forecast for each forecast (that is at least one day older than sample time)\n",
    "def get_latest_forecast_for_time(forecast_time: ee.Number) -> ee.Image:\n",
    "\t\"\"\"Get most recent forecast for a given forecast time.\"\"\"\n",
    "\t# Get frecast for specific time of interest\n",
    "\tsubset = forecast_subset \\\n",
    "\t\t.filter(ee.Filter.lt('creation_time', forecast_time)) \\\n",
    "\t\t.filter(ee.Filter.eq('forecast_time', forecast_time))\n",
    "\t\t\n",
    "\t# Then get most recent forecast\n",
    "\tlatest_init_time = subset.aggregate_array('creation_time').sort().get(-1)\n",
    "\n",
    "\treturn subset.filter(ee.Filter.eq('creation_time', latest_init_time)).first()\n"
   ]
  },
  {
   "cell_type": "code",
   "execution_count": 11,
   "metadata": {},
   "outputs": [
    {
     "data": {
      "text/html": [
       "\n",
       "            <style>\n",
       "                .geemap-dark {\n",
       "                    --jp-widgets-color: white;\n",
       "                    --jp-widgets-label-color: white;\n",
       "                    --jp-ui-font-color1: white;\n",
       "                    --jp-layout-color2: #454545;\n",
       "                    background-color: #383838;\n",
       "                }\n",
       "\n",
       "                .geemap-dark .jupyter-button {\n",
       "                    --jp-layout-color3: #383838;\n",
       "                }\n",
       "\n",
       "                .geemap-colab {\n",
       "                    background-color: var(--colab-primary-surface-color, white);\n",
       "                }\n",
       "\n",
       "                .geemap-colab .jupyter-button {\n",
       "                    --jp-layout-color3: var(--colab-primary-surface-color, white);\n",
       "                }\n",
       "            </style>\n",
       "            "
      ],
      "text/plain": [
       "<IPython.core.display.HTML object>"
      ]
     },
     "metadata": {},
     "output_type": "display_data"
    },
    {
     "data": {
      "text/plain": [
       "[datetime.datetime(2022, 4, 20, 14, 30, tzinfo=<DstTzInfo 'Asia/Kolkata' IST+5:30:00 STD>),\n",
       " datetime.datetime(2022, 4, 21, 14, 30, tzinfo=<DstTzInfo 'Asia/Kolkata' IST+5:30:00 STD>),\n",
       " datetime.datetime(2022, 4, 22, 7, 30, tzinfo=<DstTzInfo 'Asia/Kolkata' IST+5:30:00 STD>),\n",
       " datetime.datetime(2022, 4, 22, 14, 30, tzinfo=<DstTzInfo 'Asia/Kolkata' IST+5:30:00 STD>),\n",
       " datetime.datetime(2022, 4, 22, 20, 30, tzinfo=<DstTzInfo 'Asia/Kolkata' IST+5:30:00 STD>),\n",
       " datetime.datetime(2022, 4, 23, 8, 30, tzinfo=<DstTzInfo 'Asia/Kolkata' IST+5:30:00 STD>),\n",
       " datetime.datetime(2022, 4, 23, 14, 30, tzinfo=<DstTzInfo 'Asia/Kolkata' IST+5:30:00 STD>)]"
      ]
     },
     "execution_count": 11,
     "metadata": {},
     "output_type": "execute_result"
    }
   ],
   "source": [
    "times = forecast_time_list.sort().getInfo()\n",
    "[datetime.fromtimestamp(d/1000, tz=pytz.timezone('Asia/Kolkata')) for d in times]"
   ]
  },
  {
   "cell_type": "markdown",
   "metadata": {},
   "source": [
    "### Check date consistency in geo dataset"
   ]
  },
  {
   "cell_type": "code",
   "execution_count": 13,
   "metadata": {},
   "outputs": [
    {
     "data": {
      "text/html": [
       "\n",
       "            <style>\n",
       "                .geemap-dark {\n",
       "                    --jp-widgets-color: white;\n",
       "                    --jp-widgets-label-color: white;\n",
       "                    --jp-ui-font-color1: white;\n",
       "                    --jp-layout-color2: #454545;\n",
       "                    background-color: #383838;\n",
       "                }\n",
       "\n",
       "                .geemap-dark .jupyter-button {\n",
       "                    --jp-layout-color3: #383838;\n",
       "                }\n",
       "\n",
       "                .geemap-colab {\n",
       "                    background-color: var(--colab-primary-surface-color, white);\n",
       "                }\n",
       "\n",
       "                .geemap-colab .jupyter-button {\n",
       "                    --jp-layout-color3: var(--colab-primary-surface-color, white);\n",
       "                }\n",
       "            </style>\n",
       "            "
      ],
      "text/plain": [
       "<IPython.core.display.HTML object>"
      ]
     },
     "metadata": {},
     "output_type": "display_data"
    }
   ],
   "source": [
    "gfs_data = pd.read_csv(\"../data/gcs/train/gfs/measurements_with_metadata.csv\")\n",
    "gfs_data = gfs_data.drop(columns=['system:index', '.geo'])"
   ]
  },
  {
   "cell_type": "code",
   "execution_count": 14,
   "metadata": {},
   "outputs": [
    {
     "data": {
      "text/html": [
       "\n",
       "            <style>\n",
       "                .geemap-dark {\n",
       "                    --jp-widgets-color: white;\n",
       "                    --jp-widgets-label-color: white;\n",
       "                    --jp-ui-font-color1: white;\n",
       "                    --jp-layout-color2: #454545;\n",
       "                    background-color: #383838;\n",
       "                }\n",
       "\n",
       "                .geemap-dark .jupyter-button {\n",
       "                    --jp-layout-color3: #383838;\n",
       "                }\n",
       "\n",
       "                .geemap-colab {\n",
       "                    background-color: var(--colab-primary-surface-color, white);\n",
       "                }\n",
       "\n",
       "                .geemap-colab .jupyter-button {\n",
       "                    --jp-layout-color3: var(--colab-primary-surface-color, white);\n",
       "                }\n",
       "            </style>\n",
       "            "
      ],
      "text/plain": [
       "<IPython.core.display.HTML object>"
      ]
     },
     "metadata": {},
     "output_type": "display_data"
    },
    {
     "data": {
      "text/html": [
       "<div>\n",
       "<style scoped>\n",
       "    .dataframe tbody tr th:only-of-type {\n",
       "        vertical-align: middle;\n",
       "    }\n",
       "\n",
       "    .dataframe tbody tr th {\n",
       "        vertical-align: top;\n",
       "    }\n",
       "\n",
       "    .dataframe thead th {\n",
       "        text-align: right;\n",
       "    }\n",
       "</style>\n",
       "<table border=\"1\" class=\"dataframe\">\n",
       "  <thead>\n",
       "    <tr style=\"text-align: right;\">\n",
       "      <th></th>\n",
       "      <th>downward_shortwave_radiation_flux</th>\n",
       "      <th>forecast_creation_dt</th>\n",
       "      <th>forecast_hour</th>\n",
       "      <th>forecast_time</th>\n",
       "      <th>precipitable_water_entire_atmosphere</th>\n",
       "      <th>relative_humidity_2m_above_ground</th>\n",
       "      <th>sample_idx</th>\n",
       "      <th>specific_humidity_2m_above_ground</th>\n",
       "      <th>temperature_2m_above_ground</th>\n",
       "      <th>total_cloud_cover_entire_atmosphere</th>\n",
       "      <th>total_precipitation_surface</th>\n",
       "      <th>u_component_of_wind_10m_above_ground</th>\n",
       "      <th>v_component_of_wind_10m_above_ground</th>\n",
       "    </tr>\n",
       "  </thead>\n",
       "  <tbody>\n",
       "    <tr>\n",
       "      <th>0</th>\n",
       "      <td>95.000000</td>\n",
       "      <td>2.023101e+09</td>\n",
       "      <td>8.0</td>\n",
       "      <td>8</td>\n",
       "      <td>53.642918</td>\n",
       "      <td>79.599998</td>\n",
       "      <td>0</td>\n",
       "      <td>0.018987</td>\n",
       "      <td>28.235132</td>\n",
       "      <td>65.900002</td>\n",
       "      <td>0.5000</td>\n",
       "      <td>1.075740</td>\n",
       "      <td>6.372488</td>\n",
       "    </tr>\n",
       "    <tr>\n",
       "      <th>1</th>\n",
       "      <td>870.699951</td>\n",
       "      <td>2.023101e+09</td>\n",
       "      <td>15.0</td>\n",
       "      <td>15</td>\n",
       "      <td>52.671131</td>\n",
       "      <td>76.599998</td>\n",
       "      <td>0</td>\n",
       "      <td>0.019130</td>\n",
       "      <td>28.977930</td>\n",
       "      <td>22.900000</td>\n",
       "      <td>0.0625</td>\n",
       "      <td>-5.206277</td>\n",
       "      <td>3.657776</td>\n",
       "    </tr>\n",
       "    <tr>\n",
       "      <th>2</th>\n",
       "      <td>0.960000</td>\n",
       "      <td>2.023101e+09</td>\n",
       "      <td>21.0</td>\n",
       "      <td>21</td>\n",
       "      <td>53.902569</td>\n",
       "      <td>81.400002</td>\n",
       "      <td>0</td>\n",
       "      <td>0.020040</td>\n",
       "      <td>28.810785</td>\n",
       "      <td>6.300000</td>\n",
       "      <td>0.4375</td>\n",
       "      <td>-2.472117</td>\n",
       "      <td>4.348633</td>\n",
       "    </tr>\n",
       "    <tr>\n",
       "      <th>3</th>\n",
       "      <td>186.679993</td>\n",
       "      <td>2.023101e+09</td>\n",
       "      <td>33.0</td>\n",
       "      <td>33</td>\n",
       "      <td>49.854088</td>\n",
       "      <td>77.000000</td>\n",
       "      <td>0</td>\n",
       "      <td>0.018997</td>\n",
       "      <td>28.832361</td>\n",
       "      <td>5.000000</td>\n",
       "      <td>0.0625</td>\n",
       "      <td>0.235383</td>\n",
       "      <td>3.516252</td>\n",
       "    </tr>\n",
       "    <tr>\n",
       "      <th>4</th>\n",
       "      <td>851.599976</td>\n",
       "      <td>2.023101e+09</td>\n",
       "      <td>39.0</td>\n",
       "      <td>39</td>\n",
       "      <td>46.887844</td>\n",
       "      <td>70.700005</td>\n",
       "      <td>0</td>\n",
       "      <td>0.017774</td>\n",
       "      <td>29.084528</td>\n",
       "      <td>100.000000</td>\n",
       "      <td>0.0000</td>\n",
       "      <td>-4.562368</td>\n",
       "      <td>1.681265</td>\n",
       "    </tr>\n",
       "    <tr>\n",
       "      <th>...</th>\n",
       "      <td>...</td>\n",
       "      <td>...</td>\n",
       "      <td>...</td>\n",
       "      <td>...</td>\n",
       "      <td>...</td>\n",
       "      <td>...</td>\n",
       "      <td>...</td>\n",
       "      <td>...</td>\n",
       "      <td>...</td>\n",
       "      <td>...</td>\n",
       "      <td>...</td>\n",
       "      <td>...</td>\n",
       "      <td>...</td>\n",
       "    </tr>\n",
       "    <tr>\n",
       "      <th>59623</th>\n",
       "      <td>790.400024</td>\n",
       "      <td>2.024030e+09</td>\n",
       "      <td>41.0</td>\n",
       "      <td>sample</td>\n",
       "      <td>35.507526</td>\n",
       "      <td>47.900002</td>\n",
       "      <td>4968</td>\n",
       "      <td>0.013357</td>\n",
       "      <td>30.899103</td>\n",
       "      <td>100.000000</td>\n",
       "      <td>0.0000</td>\n",
       "      <td>-2.688853</td>\n",
       "      <td>6.169089</td>\n",
       "    </tr>\n",
       "    <tr>\n",
       "      <th>59624</th>\n",
       "      <td>3696.874931</td>\n",
       "      <td>NaN</td>\n",
       "      <td>NaN</td>\n",
       "      <td>three_day_cum</td>\n",
       "      <td>114.613156</td>\n",
       "      <td>140.637503</td>\n",
       "      <td>4968</td>\n",
       "      <td>0.043290</td>\n",
       "      <td>135.616333</td>\n",
       "      <td>148.531251</td>\n",
       "      <td>0.0000</td>\n",
       "      <td>-3.768496</td>\n",
       "      <td>15.553073</td>\n",
       "    </tr>\n",
       "    <tr>\n",
       "      <th>59625</th>\n",
       "      <td>7351.749847</td>\n",
       "      <td>NaN</td>\n",
       "      <td>NaN</td>\n",
       "      <td>seven_day_cum</td>\n",
       "      <td>229.554296</td>\n",
       "      <td>287.168756</td>\n",
       "      <td>4968</td>\n",
       "      <td>0.087843</td>\n",
       "      <td>269.831906</td>\n",
       "      <td>190.481252</td>\n",
       "      <td>0.0000</td>\n",
       "      <td>-15.111245</td>\n",
       "      <td>27.047040</td>\n",
       "    </tr>\n",
       "    <tr>\n",
       "      <th>59626</th>\n",
       "      <td>5639.788242</td>\n",
       "      <td>NaN</td>\n",
       "      <td>NaN</td>\n",
       "      <td>same_day_sum</td>\n",
       "      <td>548.166852</td>\n",
       "      <td>1068.243773</td>\n",
       "      <td>4968</td>\n",
       "      <td>0.231249</td>\n",
       "      <td>475.324069</td>\n",
       "      <td>1025.868762</td>\n",
       "      <td>0.0000</td>\n",
       "      <td>-9.406836</td>\n",
       "      <td>34.990070</td>\n",
       "    </tr>\n",
       "    <tr>\n",
       "      <th>59627</th>\n",
       "      <td>6630.576791</td>\n",
       "      <td>NaN</td>\n",
       "      <td>NaN</td>\n",
       "      <td>before_day_sum</td>\n",
       "      <td>734.049566</td>\n",
       "      <td>1594.812532</td>\n",
       "      <td>4968</td>\n",
       "      <td>0.327924</td>\n",
       "      <td>674.877642</td>\n",
       "      <td>410.268756</td>\n",
       "      <td>0.0000</td>\n",
       "      <td>-25.076455</td>\n",
       "      <td>58.330265</td>\n",
       "    </tr>\n",
       "  </tbody>\n",
       "</table>\n",
       "<p>59628 rows × 13 columns</p>\n",
       "</div>"
      ],
      "text/plain": [
       "       downward_shortwave_radiation_flux  forecast_creation_dt  forecast_hour  \\\n",
       "0                              95.000000          2.023101e+09            8.0   \n",
       "1                             870.699951          2.023101e+09           15.0   \n",
       "2                               0.960000          2.023101e+09           21.0   \n",
       "3                             186.679993          2.023101e+09           33.0   \n",
       "4                             851.599976          2.023101e+09           39.0   \n",
       "...                                  ...                   ...            ...   \n",
       "59623                         790.400024          2.024030e+09           41.0   \n",
       "59624                        3696.874931                   NaN            NaN   \n",
       "59625                        7351.749847                   NaN            NaN   \n",
       "59626                        5639.788242                   NaN            NaN   \n",
       "59627                        6630.576791                   NaN            NaN   \n",
       "\n",
       "        forecast_time  precipitable_water_entire_atmosphere  \\\n",
       "0                   8                             53.642918   \n",
       "1                  15                             52.671131   \n",
       "2                  21                             53.902569   \n",
       "3                  33                             49.854088   \n",
       "4                  39                             46.887844   \n",
       "...               ...                                   ...   \n",
       "59623          sample                             35.507526   \n",
       "59624   three_day_cum                            114.613156   \n",
       "59625   seven_day_cum                            229.554296   \n",
       "59626    same_day_sum                            548.166852   \n",
       "59627  before_day_sum                            734.049566   \n",
       "\n",
       "       relative_humidity_2m_above_ground  sample_idx  \\\n",
       "0                              79.599998           0   \n",
       "1                              76.599998           0   \n",
       "2                              81.400002           0   \n",
       "3                              77.000000           0   \n",
       "4                              70.700005           0   \n",
       "...                                  ...         ...   \n",
       "59623                          47.900002        4968   \n",
       "59624                         140.637503        4968   \n",
       "59625                         287.168756        4968   \n",
       "59626                        1068.243773        4968   \n",
       "59627                        1594.812532        4968   \n",
       "\n",
       "       specific_humidity_2m_above_ground  temperature_2m_above_ground  \\\n",
       "0                               0.018987                    28.235132   \n",
       "1                               0.019130                    28.977930   \n",
       "2                               0.020040                    28.810785   \n",
       "3                               0.018997                    28.832361   \n",
       "4                               0.017774                    29.084528   \n",
       "...                                  ...                          ...   \n",
       "59623                           0.013357                    30.899103   \n",
       "59624                           0.043290                   135.616333   \n",
       "59625                           0.087843                   269.831906   \n",
       "59626                           0.231249                   475.324069   \n",
       "59627                           0.327924                   674.877642   \n",
       "\n",
       "       total_cloud_cover_entire_atmosphere  total_precipitation_surface  \\\n",
       "0                                65.900002                       0.5000   \n",
       "1                                22.900000                       0.0625   \n",
       "2                                 6.300000                       0.4375   \n",
       "3                                 5.000000                       0.0625   \n",
       "4                               100.000000                       0.0000   \n",
       "...                                    ...                          ...   \n",
       "59623                           100.000000                       0.0000   \n",
       "59624                           148.531251                       0.0000   \n",
       "59625                           190.481252                       0.0000   \n",
       "59626                          1025.868762                       0.0000   \n",
       "59627                           410.268756                       0.0000   \n",
       "\n",
       "       u_component_of_wind_10m_above_ground  \\\n",
       "0                                  1.075740   \n",
       "1                                 -5.206277   \n",
       "2                                 -2.472117   \n",
       "3                                  0.235383   \n",
       "4                                 -4.562368   \n",
       "...                                     ...   \n",
       "59623                             -2.688853   \n",
       "59624                             -3.768496   \n",
       "59625                            -15.111245   \n",
       "59626                             -9.406836   \n",
       "59627                            -25.076455   \n",
       "\n",
       "       v_component_of_wind_10m_above_ground  \n",
       "0                                  6.372488  \n",
       "1                                  3.657776  \n",
       "2                                  4.348633  \n",
       "3                                  3.516252  \n",
       "4                                  1.681265  \n",
       "...                                     ...  \n",
       "59623                              6.169089  \n",
       "59624                             15.553073  \n",
       "59625                             27.047040  \n",
       "59626                             34.990070  \n",
       "59627                             58.330265  \n",
       "\n",
       "[59628 rows x 13 columns]"
      ]
     },
     "execution_count": 14,
     "metadata": {},
     "output_type": "execute_result"
    }
   ],
   "source": [
    "gfs_data"
   ]
  },
  {
   "cell_type": "code",
   "execution_count": 110,
   "metadata": {},
   "outputs": [
    {
     "data": {
      "text/html": [
       "\n",
       "            <style>\n",
       "                .geemap-dark {\n",
       "                    --jp-widgets-color: white;\n",
       "                    --jp-widgets-label-color: white;\n",
       "                    --jp-ui-font-color1: white;\n",
       "                    --jp-layout-color2: #454545;\n",
       "                    background-color: #383838;\n",
       "                }\n",
       "\n",
       "                .geemap-dark .jupyter-button {\n",
       "                    --jp-layout-color3: #383838;\n",
       "                }\n",
       "\n",
       "                .geemap-colab {\n",
       "                    background-color: var(--colab-primary-surface-color, white);\n",
       "                }\n",
       "\n",
       "                .geemap-colab .jupyter-button {\n",
       "                    --jp-layout-color3: var(--colab-primary-surface-color, white);\n",
       "                }\n",
       "            </style>\n",
       "            "
      ],
      "text/plain": [
       "<IPython.core.display.HTML object>"
      ]
     },
     "metadata": {},
     "output_type": "display_data"
    },
    {
     "data": {
      "text/html": [
       "<div>\n",
       "<style scoped>\n",
       "    .dataframe tbody tr th:only-of-type {\n",
       "        vertical-align: middle;\n",
       "    }\n",
       "\n",
       "    .dataframe tbody tr th {\n",
       "        vertical-align: top;\n",
       "    }\n",
       "\n",
       "    .dataframe thead th {\n",
       "        text-align: right;\n",
       "    }\n",
       "</style>\n",
       "<table border=\"1\" class=\"dataframe\">\n",
       "  <thead>\n",
       "    <tr style=\"text-align: right;\">\n",
       "      <th></th>\n",
       "      <th>creation_time</th>\n",
       "      <th>forecast_creation_dt</th>\n",
       "    </tr>\n",
       "  </thead>\n",
       "  <tbody>\n",
       "    <tr>\n",
       "      <th>0</th>\n",
       "      <td>2023-10-08 23:30:00+05:30</td>\n",
       "      <td>2.023101e+09</td>\n",
       "    </tr>\n",
       "    <tr>\n",
       "      <th>1</th>\n",
       "      <td>2023-10-08 23:30:00+05:30</td>\n",
       "      <td>2.023101e+09</td>\n",
       "    </tr>\n",
       "    <tr>\n",
       "      <th>2</th>\n",
       "      <td>2023-10-08 23:30:00+05:30</td>\n",
       "      <td>2.023101e+09</td>\n",
       "    </tr>\n",
       "    <tr>\n",
       "      <th>3</th>\n",
       "      <td>2023-10-08 23:30:00+05:30</td>\n",
       "      <td>2.023101e+09</td>\n",
       "    </tr>\n",
       "    <tr>\n",
       "      <th>4</th>\n",
       "      <td>2023-10-08 23:30:00+05:30</td>\n",
       "      <td>2.023101e+09</td>\n",
       "    </tr>\n",
       "  </tbody>\n",
       "</table>\n",
       "</div>"
      ],
      "text/plain": [
       "              creation_time  forecast_creation_dt\n",
       "0 2023-10-08 23:30:00+05:30          2.023101e+09\n",
       "1 2023-10-08 23:30:00+05:30          2.023101e+09\n",
       "2 2023-10-08 23:30:00+05:30          2.023101e+09\n",
       "3 2023-10-08 23:30:00+05:30          2.023101e+09\n",
       "4 2023-10-08 23:30:00+05:30          2.023101e+09"
      ]
     },
     "execution_count": 110,
     "metadata": {},
     "output_type": "execute_result"
    }
   ],
   "source": [
    "gfs_data = gfs_data[gfs_data['forecast_hour'].notna()] # Stick to numeric forecast times\n",
    "gfs_data['creation_time'] = pd.to_datetime(gfs_data['forecast_creation_dt'].astype(int).astype(str), format='%Y%m%d%H', utc=True).dt.tz_convert(pytz.timezone('Asia/Kolkata'))\n",
    "gfs_data[['creation_time', 'forecast_creation_dt']].head()"
   ]
  },
  {
   "cell_type": "code",
   "execution_count": null,
   "metadata": {},
   "outputs": [],
   "source": [
    "gfs_data['sample_dt'] = gfs_data['sample_idx'].map(ds.set_index('sample_idx')['sample_dt'])\n",
    "gfs_data['forecast_time_check'] = gfs_data['creation_time'] + pd.to_timedelta(gfs_data['forecast_hour'], 'hour')\n",
    "gfs_data[['sample_idx', 'creation_time', 'sample_dt', 'forecast_time_check', 'forecast_hour', 'forecast_time']].head(40)"
   ]
  },
  {
   "cell_type": "markdown",
   "metadata": {},
   "source": [
    "Times all appear correct to me. Now check subsequent cleaning."
   ]
  },
  {
   "cell_type": "code",
   "execution_count": 113,
   "metadata": {},
   "outputs": [
    {
     "data": {
      "text/html": [
       "\n",
       "            <style>\n",
       "                .geemap-dark {\n",
       "                    --jp-widgets-color: white;\n",
       "                    --jp-widgets-label-color: white;\n",
       "                    --jp-ui-font-color1: white;\n",
       "                    --jp-layout-color2: #454545;\n",
       "                    background-color: #383838;\n",
       "                }\n",
       "\n",
       "                .geemap-dark .jupyter-button {\n",
       "                    --jp-layout-color3: #383838;\n",
       "                }\n",
       "\n",
       "                .geemap-colab {\n",
       "                    background-color: var(--colab-primary-surface-color, white);\n",
       "                }\n",
       "\n",
       "                .geemap-colab .jupyter-button {\n",
       "                    --jp-layout-color3: var(--colab-primary-surface-color, white);\n",
       "                }\n",
       "            </style>\n",
       "            "
      ],
      "text/plain": [
       "<IPython.core.display.HTML object>"
      ]
     },
     "metadata": {},
     "output_type": "display_data"
    }
   ],
   "source": [
    "observations_per_measurement = gfs_data.groupby('sample_idx').size()\n",
    "assert (observations_per_measurement.eq(observations_per_measurement.iloc[0]).all()), (\n",
    "\t\"Number of observations per measurement varies.\"\n",
    ")\n",
    "\n",
    "# Reorder columns and rows\n",
    "front_cols = ['sample_idx', 'forecast_time', 'forecast_creation_dt', 'forecast_hour'] \n",
    "gfs_data = gfs_data[front_cols + [col for col in gfs_data.columns if col not in front_cols]]\n",
    "gfs_data = gfs_data.sort_values(['sample_idx', 'forecast_time'])\n",
    "\n",
    "# Pivot wide to one observation per measurement\n",
    "value_cols = gfs_data.columns[~gfs_data.columns.isin(front_cols)].tolist()\n",
    "gfs_data_wide = gfs_data.pivot(index='sample_idx', columns='forecast_time', values=value_cols)"
   ]
  },
  {
   "cell_type": "markdown",
   "metadata": {},
   "source": [
    "This also looks correct to me"
   ]
  }
 ],
 "metadata": {
  "kernelspec": {
   "display_name": ".venv",
   "language": "python",
   "name": "python3"
  },
  "language_info": {
   "codemirror_mode": {
    "name": "ipython",
    "version": 3
   },
   "file_extension": ".py",
   "mimetype": "text/x-python",
   "name": "python",
   "nbconvert_exporter": "python",
   "pygments_lexer": "ipython3",
   "version": "3.12.7"
  }
 },
 "nbformat": 4,
 "nbformat_minor": 2
}
