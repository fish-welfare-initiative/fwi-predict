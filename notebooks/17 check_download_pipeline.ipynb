{
 "cells": [
  {
   "cell_type": "code",
   "execution_count": 39,
   "metadata": {},
   "outputs": [
    {
     "data": {
      "text/html": [
       "\n",
       "            <style>\n",
       "                .geemap-dark {\n",
       "                    --jp-widgets-color: white;\n",
       "                    --jp-widgets-label-color: white;\n",
       "                    --jp-ui-font-color1: white;\n",
       "                    --jp-layout-color2: #454545;\n",
       "                    background-color: #383838;\n",
       "                }\n",
       "\n",
       "                .geemap-dark .jupyter-button {\n",
       "                    --jp-layout-color3: #383838;\n",
       "                }\n",
       "\n",
       "                .geemap-colab {\n",
       "                    background-color: var(--colab-primary-surface-color, white);\n",
       "                }\n",
       "\n",
       "                .geemap-colab .jupyter-button {\n",
       "                    --jp-layout-color3: var(--colab-primary-surface-color, white);\n",
       "                }\n",
       "            </style>\n",
       "            "
      ],
      "text/plain": [
       "<IPython.core.display.HTML object>"
      ]
     },
     "metadata": {},
     "output_type": "display_data"
    },
    {
     "name": "stdout",
     "output_type": "stream",
     "text": [
      "The autoreload extension is already loaded. To reload it, use:\n",
      "  %reload_ext autoreload\n"
     ]
    }
   ],
   "source": [
    "%load_ext autoreload\n",
    "%autoreload 2\n",
    "\n",
    "from datetime import datetime, timezone\n",
    "from typing import List\n",
    "\n",
    "import ee\n",
    "import geemap\n",
    "import geopandas as gpd\n",
    "import pandas as pd\n",
    "import pytz\n",
    "\n",
    "from fwi_predict.constants import FORECAST_TIMES\n",
    "from fwi_predict.geo.ee import get_gfs"
   ]
  },
  {
   "cell_type": "code",
   "execution_count": 40,
   "metadata": {},
   "outputs": [
    {
     "data": {
      "text/html": [
       "\n",
       "            <style>\n",
       "                .geemap-dark {\n",
       "                    --jp-widgets-color: white;\n",
       "                    --jp-widgets-label-color: white;\n",
       "                    --jp-ui-font-color1: white;\n",
       "                    --jp-layout-color2: #454545;\n",
       "                    background-color: #383838;\n",
       "                }\n",
       "\n",
       "                .geemap-dark .jupyter-button {\n",
       "                    --jp-layout-color3: #383838;\n",
       "                }\n",
       "\n",
       "                .geemap-colab {\n",
       "                    background-color: var(--colab-primary-surface-color, white);\n",
       "                }\n",
       "\n",
       "                .geemap-colab .jupyter-button {\n",
       "                    --jp-layout-color3: var(--colab-primary-surface-color, white);\n",
       "                }\n",
       "            </style>\n",
       "            "
      ],
      "text/plain": [
       "<IPython.core.display.HTML object>"
      ]
     },
     "metadata": {},
     "output_type": "display_data"
    }
   ],
   "source": [
    "ee.Initialize()"
   ]
  },
  {
   "cell_type": "code",
   "execution_count": 41,
   "metadata": {},
   "outputs": [
    {
     "data": {
      "text/html": [
       "\n",
       "            <style>\n",
       "                .geemap-dark {\n",
       "                    --jp-widgets-color: white;\n",
       "                    --jp-widgets-label-color: white;\n",
       "                    --jp-ui-font-color1: white;\n",
       "                    --jp-layout-color2: #454545;\n",
       "                    background-color: #383838;\n",
       "                }\n",
       "\n",
       "                .geemap-dark .jupyter-button {\n",
       "                    --jp-layout-color3: #383838;\n",
       "                }\n",
       "\n",
       "                .geemap-colab {\n",
       "                    background-color: var(--colab-primary-surface-color, white);\n",
       "                }\n",
       "\n",
       "                .geemap-colab .jupyter-button {\n",
       "                    --jp-layout-color3: var(--colab-primary-surface-color, white);\n",
       "                }\n",
       "            </style>\n",
       "            "
      ],
      "text/plain": [
       "<IPython.core.display.HTML object>"
      ]
     },
     "metadata": {},
     "output_type": "display_data"
    }
   ],
   "source": [
    "def get_sample_gfs_forecast(sample: ee.Feature,\n",
    "\t\t\t\t\t\t\t              forecast_times: List,\n",
    "\t\t\t\t\t\t\t              gfs: ee.ImageCollection = None) -> ee.FeatureCollection:\n",
    "\t\"\"\"Add docstring.\"\"\"\n",
    "\tif gfs is None:\n",
    "\t\tgfs = get_gfs()\n",
    "\n",
    "\n",
    "\t# Get times for which we want forecasts.\n",
    "\tsample_idx = sample.get('sample_idx') # Get sample index\n",
    "\tsample_dt = ee.Date(sample.get('sample_dt'))\n",
    "\tday_prior = sample_dt \\\n",
    "\t\t.advance(5.5, 'hour') \\\n",
    "    .advance(-1, 'day') \\\n",
    "    .update(hour=0, minute=0, second=0)\n",
    "  \n",
    "\tforecast_time_list = ee.List(forecast_times).map(\n",
    "    lambda hours: day_prior.advance(hours, 'hour').advance(-6, 'hour').millis() # Again adjusting for timezone so forecasts don't overlap with sample time\n",
    "  )\n",
    "\n",
    "  # Pre-filter GFS to reduce computation\n",
    "\tforecast_subset = gfs.filterDate( \n",
    "    ee.Date(forecast_time_list.sort().getNumber(0)).advance(-1, 'day'), # Earliest forecast initialization time we are interested in \n",
    "    day_prior # Want forecasts initialized one day before sample was taken (5:30am IST)\n",
    "  )\n",
    "\n",
    "  # Get latest forecast for each forecast (that is at least one day older than sample time)\n",
    "\tdef get_latest_forecast_for_time(forecast_time: ee.Number) -> ee.Image:\n",
    "\t\t\"\"\"Get most recent forecast for a given forecast time.\"\"\"\n",
    "    # Get frecast for specific time of interest\n",
    "\t\tsubset = forecast_subset \\\n",
    "\t\t\t.filter(ee.Filter.lt('creation_time', forecast_time)) \\\n",
    "\t\t\t.filter(ee.Filter.eq('forecast_time', forecast_time))\n",
    "      \n",
    "    # Then get most recent forecast\n",
    "\t\tlatest_init_time = subset.aggregate_array('creation_time').sort().get(-1)\n",
    "\t\n",
    "\t\treturn subset.filter(ee.Filter.eq('creation_time', latest_init_time)).first()\n",
    "  \n",
    "  \n",
    "  # Extract forecast values\n",
    "\tforecasts_for_times = ee.ImageCollection(\n",
    "    forecast_time_list.map(get_latest_forecast_for_time)\n",
    "  )\n",
    "\n",
    "\treturn forecasts_for_times\n",
    "\t\n",
    "  # Assign metadata to forecast values and cumulative values\n",
    "\tforecast_values = forecasts_for_times \\\n",
    "    .map(lambda img: img.sample(sample.geometry())) \\\n",
    "    .flatten() \\\n",
    "    .map(lambda f: f # Set metadata\n",
    "      .set('forecast_creation_dt', f.id().slice(0, 10)) # Same as below\n",
    "      .set('forecast_hour', f.id().slice(11, 14)) # Would be good to make this less hacky\n",
    "      .set('sample_idx', sample_idx)\n",
    "    )\n",
    "\t\n",
    "\t# Map each element of forecast_time_list to each feature of forecast_values\n",
    "\tforecast_values_list = forecast_values.toList(forecast_values.size())\n",
    "\tforecast_values = ee.FeatureCollection(\n",
    "\t\tforecast_values.map(lambda f: f.set('forecast_time', \n",
    "\t\t\tee.List(forecast_times).get(forecast_values_list.indexOf(f))))\n",
    "\t)\n",
    "\n",
    "  # Get forecast at time of sample\n",
    "\tsample_dt_rounded = sample_dt \\\n",
    "    .millis() \\\n",
    "    .divide(1000 * 60 * 60) \\\n",
    "    .round() \\\n",
    "    .multiply(1000 * 60 * 60) # Round sample time to nearest hour\n",
    "\tsample_time_forecast = ee.Image(get_latest_forecast_for_time(sample_dt_rounded))\n",
    "\n",
    "\treturn sample_time_forecast"
   ]
  },
  {
   "cell_type": "code",
   "execution_count": 42,
   "metadata": {},
   "outputs": [
    {
     "data": {
      "text/html": [
       "\n",
       "            <style>\n",
       "                .geemap-dark {\n",
       "                    --jp-widgets-color: white;\n",
       "                    --jp-widgets-label-color: white;\n",
       "                    --jp-ui-font-color1: white;\n",
       "                    --jp-layout-color2: #454545;\n",
       "                    background-color: #383838;\n",
       "                }\n",
       "\n",
       "                .geemap-dark .jupyter-button {\n",
       "                    --jp-layout-color3: #383838;\n",
       "                }\n",
       "\n",
       "                .geemap-colab {\n",
       "                    background-color: var(--colab-primary-surface-color, white);\n",
       "                }\n",
       "\n",
       "                .geemap-colab .jupyter-button {\n",
       "                    --jp-layout-color3: var(--colab-primary-surface-color, white);\n",
       "                }\n",
       "            </style>\n",
       "            "
      ],
      "text/plain": [
       "<IPython.core.display.HTML object>"
      ]
     },
     "metadata": {},
     "output_type": "display_data"
    }
   ],
   "source": [
    "ds = gpd.read_file(\"../data/clean/measurements_with_metadata.geojson\")\n",
    "temp = ds.iloc[3380:3383]\n",
    "ee_frame = geemap.gdf_to_ee(temp, date='sample_dt', date_format=\"yyyy-MM-dd'T'HH:mm:ssZ\")"
   ]
  },
  {
   "cell_type": "code",
   "execution_count": 43,
   "metadata": {},
   "outputs": [
    {
     "data": {
      "text/html": [
       "\n",
       "            <style>\n",
       "                .geemap-dark {\n",
       "                    --jp-widgets-color: white;\n",
       "                    --jp-widgets-label-color: white;\n",
       "                    --jp-ui-font-color1: white;\n",
       "                    --jp-layout-color2: #454545;\n",
       "                    background-color: #383838;\n",
       "                }\n",
       "\n",
       "                .geemap-dark .jupyter-button {\n",
       "                    --jp-layout-color3: #383838;\n",
       "                }\n",
       "\n",
       "                .geemap-colab {\n",
       "                    background-color: var(--colab-primary-surface-color, white);\n",
       "                }\n",
       "\n",
       "                .geemap-colab .jupyter-button {\n",
       "                    --jp-layout-color3: var(--colab-primary-surface-color, white);\n",
       "                }\n",
       "            </style>\n",
       "            "
      ],
      "text/plain": [
       "<IPython.core.display.HTML object>"
      ]
     },
     "metadata": {},
     "output_type": "display_data"
    },
    {
     "data": {
      "text/plain": [
       "'2022-04-23 01:13:00'"
      ]
     },
     "execution_count": 43,
     "metadata": {},
     "output_type": "execute_result"
    }
   ],
   "source": [
    "out = ee.Date(ee_frame.first().get('sample_dt')).getInfo()\n",
    "datetime.fromtimestamp(out['value']/1000, tz=timezone.utc).strftime(\"%Y-%m-%d %H:%M:%S\")"
   ]
  },
  {
   "cell_type": "code",
   "execution_count": 44,
   "metadata": {},
   "outputs": [
    {
     "data": {
      "text/html": [
       "\n",
       "            <style>\n",
       "                .geemap-dark {\n",
       "                    --jp-widgets-color: white;\n",
       "                    --jp-widgets-label-color: white;\n",
       "                    --jp-ui-font-color1: white;\n",
       "                    --jp-layout-color2: #454545;\n",
       "                    background-color: #383838;\n",
       "                }\n",
       "\n",
       "                .geemap-dark .jupyter-button {\n",
       "                    --jp-layout-color3: #383838;\n",
       "                }\n",
       "\n",
       "                .geemap-colab {\n",
       "                    background-color: var(--colab-primary-surface-color, white);\n",
       "                }\n",
       "\n",
       "                .geemap-colab .jupyter-button {\n",
       "                    --jp-layout-color3: var(--colab-primary-surface-color, white);\n",
       "                }\n",
       "            </style>\n",
       "            "
      ],
      "text/plain": [
       "<IPython.core.display.HTML object>"
      ]
     },
     "metadata": {},
     "output_type": "display_data"
    }
   ],
   "source": [
    "result = ee_frame.map(lambda f: get_sample_gfs_forecast(f, FORECAST_TIMES))"
   ]
  },
  {
   "cell_type": "code",
   "execution_count": 45,
   "metadata": {},
   "outputs": [
    {
     "data": {
      "text/html": [
       "\n",
       "            <style>\n",
       "                .geemap-dark {\n",
       "                    --jp-widgets-color: white;\n",
       "                    --jp-widgets-label-color: white;\n",
       "                    --jp-ui-font-color1: white;\n",
       "                    --jp-layout-color2: #454545;\n",
       "                    background-color: #383838;\n",
       "                }\n",
       "\n",
       "                .geemap-dark .jupyter-button {\n",
       "                    --jp-layout-color3: #383838;\n",
       "                }\n",
       "\n",
       "                .geemap-colab {\n",
       "                    background-color: var(--colab-primary-surface-color, white);\n",
       "                }\n",
       "\n",
       "                .geemap-colab .jupyter-button {\n",
       "                    --jp-layout-color3: var(--colab-primary-surface-color, white);\n",
       "                }\n",
       "            </style>\n",
       "            "
      ],
      "text/plain": [
       "<IPython.core.display.HTML object>"
      ]
     },
     "metadata": {},
     "output_type": "display_data"
    }
   ],
   "source": [
    "sample = ee_frame.first()"
   ]
  },
  {
   "cell_type": "code",
   "execution_count": 46,
   "metadata": {},
   "outputs": [
    {
     "data": {
      "text/html": [
       "\n",
       "            <style>\n",
       "                .geemap-dark {\n",
       "                    --jp-widgets-color: white;\n",
       "                    --jp-widgets-label-color: white;\n",
       "                    --jp-ui-font-color1: white;\n",
       "                    --jp-layout-color2: #454545;\n",
       "                    background-color: #383838;\n",
       "                }\n",
       "\n",
       "                .geemap-dark .jupyter-button {\n",
       "                    --jp-layout-color3: #383838;\n",
       "                }\n",
       "\n",
       "                .geemap-colab {\n",
       "                    background-color: var(--colab-primary-surface-color, white);\n",
       "                }\n",
       "\n",
       "                .geemap-colab .jupyter-button {\n",
       "                    --jp-layout-color3: var(--colab-primary-surface-color, white);\n",
       "                }\n",
       "            </style>\n",
       "            "
      ],
      "text/plain": [
       "<IPython.core.display.HTML object>"
      ]
     },
     "metadata": {},
     "output_type": "display_data"
    }
   ],
   "source": [
    "gfs = get_gfs()"
   ]
  },
  {
   "cell_type": "code",
   "execution_count": 47,
   "metadata": {},
   "outputs": [
    {
     "data": {
      "text/html": [
       "\n",
       "            <style>\n",
       "                .geemap-dark {\n",
       "                    --jp-widgets-color: white;\n",
       "                    --jp-widgets-label-color: white;\n",
       "                    --jp-ui-font-color1: white;\n",
       "                    --jp-layout-color2: #454545;\n",
       "                    background-color: #383838;\n",
       "                }\n",
       "\n",
       "                .geemap-dark .jupyter-button {\n",
       "                    --jp-layout-color3: #383838;\n",
       "                }\n",
       "\n",
       "                .geemap-colab {\n",
       "                    background-color: var(--colab-primary-surface-color, white);\n",
       "                }\n",
       "\n",
       "                .geemap-colab .jupyter-button {\n",
       "                    --jp-layout-color3: var(--colab-primary-surface-color, white);\n",
       "                }\n",
       "            </style>\n",
       "            "
      ],
      "text/plain": [
       "<IPython.core.display.HTML object>"
      ]
     },
     "metadata": {},
     "output_type": "display_data"
    }
   ],
   "source": [
    "FORECAST_TIMES[6] = -36"
   ]
  },
  {
   "cell_type": "code",
   "execution_count": 48,
   "metadata": {},
   "outputs": [
    {
     "data": {
      "text/html": [
       "\n",
       "            <style>\n",
       "                .geemap-dark {\n",
       "                    --jp-widgets-color: white;\n",
       "                    --jp-widgets-label-color: white;\n",
       "                    --jp-ui-font-color1: white;\n",
       "                    --jp-layout-color2: #454545;\n",
       "                    background-color: #383838;\n",
       "                }\n",
       "\n",
       "                .geemap-dark .jupyter-button {\n",
       "                    --jp-layout-color3: #383838;\n",
       "                }\n",
       "\n",
       "                .geemap-colab {\n",
       "                    background-color: var(--colab-primary-surface-color, white);\n",
       "                }\n",
       "\n",
       "                .geemap-colab .jupyter-button {\n",
       "                    --jp-layout-color3: var(--colab-primary-surface-color, white);\n",
       "                }\n",
       "            </style>\n",
       "            "
      ],
      "text/plain": [
       "<IPython.core.display.HTML object>"
      ]
     },
     "metadata": {},
     "output_type": "display_data"
    }
   ],
   "source": [
    "sample_idx = sample.get('sample_idx') # Get sample index\n",
    "sample_dt = ee.Date(sample.get('sample_dt'))\n",
    "day_prior = sample_dt \\\n",
    "\t.advance(5.5, 'hour') \\\n",
    "\t.advance(-1, 'day') \\\n",
    "\t.update(hour=0, minute=0, second=0)\n",
    "\n",
    "forecast_time_list = ee.List(FORECAST_TIMES).map(\n",
    "\tlambda hours: day_prior.advance(hours, 'hour').advance(-6, 'hour').millis() # Again adjusting for timezone so forecasts don't overlap with sample time\n",
    ")\n",
    "\n",
    "forecast_subset = gfs.filterDate( \n",
    "\tee.Date(forecast_time_list.sort().getNumber(0)).advance(-2, 'day'), # Earliest forecast initialization time we are interested in \n",
    "\tday_prior # Want forecasts initialized one day before sample was taken (5:30am IST)\n",
    ")"
   ]
  },
  {
   "cell_type": "code",
   "execution_count": 49,
   "metadata": {},
   "outputs": [
    {
     "data": {
      "text/html": [
       "\n",
       "            <style>\n",
       "                .geemap-dark {\n",
       "                    --jp-widgets-color: white;\n",
       "                    --jp-widgets-label-color: white;\n",
       "                    --jp-ui-font-color1: white;\n",
       "                    --jp-layout-color2: #454545;\n",
       "                    background-color: #383838;\n",
       "                }\n",
       "\n",
       "                .geemap-dark .jupyter-button {\n",
       "                    --jp-layout-color3: #383838;\n",
       "                }\n",
       "\n",
       "                .geemap-colab {\n",
       "                    background-color: var(--colab-primary-surface-color, white);\n",
       "                }\n",
       "\n",
       "                .geemap-colab .jupyter-button {\n",
       "                    --jp-layout-color3: var(--colab-primary-surface-color, white);\n",
       "                }\n",
       "            </style>\n",
       "            "
      ],
      "text/plain": [
       "<IPython.core.display.HTML object>"
      ]
     },
     "metadata": {},
     "output_type": "display_data"
    }
   ],
   "source": [
    "# Get latest forecast for each forecast (that is at least one day older than sample time)\n",
    "def get_latest_forecast_for_time(forecast_time: ee.Number) -> ee.Image:\n",
    "\t\"\"\"Get most recent forecast for a given forecast time.\"\"\"\n",
    "\t# Get frecast for specific time of interest\n",
    "\tsubset = forecast_subset \\\n",
    "\t\t.filter(ee.Filter.lt('creation_time', forecast_time)) \\\n",
    "\t\t.filter(ee.Filter.eq('forecast_time', forecast_time))\n",
    "\t\t\n",
    "\t# Then get most recent forecast\n",
    "\tlatest_init_time = subset.aggregate_array('creation_time').sort().get(-1)\n",
    "\n",
    "\treturn subset.filter(ee.Filter.eq('creation_time', latest_init_time)).first()\n"
   ]
  },
  {
   "cell_type": "code",
   "execution_count": 62,
   "metadata": {},
   "outputs": [
    {
     "data": {
      "text/html": [
       "\n",
       "            <style>\n",
       "                .geemap-dark {\n",
       "                    --jp-widgets-color: white;\n",
       "                    --jp-widgets-label-color: white;\n",
       "                    --jp-ui-font-color1: white;\n",
       "                    --jp-layout-color2: #454545;\n",
       "                    background-color: #383838;\n",
       "                }\n",
       "\n",
       "                .geemap-dark .jupyter-button {\n",
       "                    --jp-layout-color3: #383838;\n",
       "                }\n",
       "\n",
       "                .geemap-colab {\n",
       "                    background-color: var(--colab-primary-surface-color, white);\n",
       "                }\n",
       "\n",
       "                .geemap-colab .jupyter-button {\n",
       "                    --jp-layout-color3: var(--colab-primary-surface-color, white);\n",
       "                }\n",
       "            </style>\n",
       "            "
      ],
      "text/plain": [
       "<IPython.core.display.HTML object>"
      ]
     },
     "metadata": {},
     "output_type": "display_data"
    },
    {
     "data": {
      "text/plain": [
       "[datetime.datetime(2022, 4, 20, 11, 30, tzinfo=<DstTzInfo 'Asia/Kolkata' IST+5:30:00 STD>),\n",
       " datetime.datetime(2022, 4, 21, 14, 30, tzinfo=<DstTzInfo 'Asia/Kolkata' IST+5:30:00 STD>),\n",
       " datetime.datetime(2022, 4, 22, 8, 30, tzinfo=<DstTzInfo 'Asia/Kolkata' IST+5:30:00 STD>),\n",
       " datetime.datetime(2022, 4, 22, 14, 30, tzinfo=<DstTzInfo 'Asia/Kolkata' IST+5:30:00 STD>),\n",
       " datetime.datetime(2022, 4, 22, 20, 30, tzinfo=<DstTzInfo 'Asia/Kolkata' IST+5:30:00 STD>),\n",
       " datetime.datetime(2022, 4, 23, 8, 30, tzinfo=<DstTzInfo 'Asia/Kolkata' IST+5:30:00 STD>),\n",
       " datetime.datetime(2022, 4, 23, 14, 30, tzinfo=<DstTzInfo 'Asia/Kolkata' IST+5:30:00 STD>)]"
      ]
     },
     "execution_count": 62,
     "metadata": {},
     "output_type": "execute_result"
    }
   ],
   "source": [
    "times = forecast_time_list.sort().getInfo()\n",
    "[datetime.fromtimestamp(d/1000, tz=pytz.timezone('Asia/Kolkata')) for d in times]"
   ]
  },
  {
   "cell_type": "code",
   "execution_count": 50,
   "metadata": {},
   "outputs": [
    {
     "data": {
      "text/html": [
       "\n",
       "            <style>\n",
       "                .geemap-dark {\n",
       "                    --jp-widgets-color: white;\n",
       "                    --jp-widgets-label-color: white;\n",
       "                    --jp-ui-font-color1: white;\n",
       "                    --jp-layout-color2: #454545;\n",
       "                    background-color: #383838;\n",
       "                }\n",
       "\n",
       "                .geemap-dark .jupyter-button {\n",
       "                    --jp-layout-color3: #383838;\n",
       "                }\n",
       "\n",
       "                .geemap-colab {\n",
       "                    background-color: var(--colab-primary-surface-color, white);\n",
       "                }\n",
       "\n",
       "                .geemap-colab .jupyter-button {\n",
       "                    --jp-layout-color3: var(--colab-primary-surface-color, white);\n",
       "                }\n",
       "            </style>\n",
       "            "
      ],
      "text/plain": [
       "<IPython.core.display.HTML object>"
      ]
     },
     "metadata": {},
     "output_type": "display_data"
    }
   ],
   "source": [
    "creation_times = ee.ImageCollection(result).aggregate_array('creation_time').getInfo()"
   ]
  },
  {
   "cell_type": "code",
   "execution_count": 46,
   "metadata": {},
   "outputs": [
    {
     "data": {
      "text/html": [
       "\n",
       "            <style>\n",
       "                .geemap-dark {\n",
       "                    --jp-widgets-color: white;\n",
       "                    --jp-widgets-label-color: white;\n",
       "                    --jp-ui-font-color1: white;\n",
       "                    --jp-layout-color2: #454545;\n",
       "                    background-color: #383838;\n",
       "                }\n",
       "\n",
       "                .geemap-dark .jupyter-button {\n",
       "                    --jp-layout-color3: #383838;\n",
       "                }\n",
       "\n",
       "                .geemap-colab {\n",
       "                    background-color: var(--colab-primary-surface-color, white);\n",
       "                }\n",
       "\n",
       "                .geemap-colab .jupyter-button {\n",
       "                    --jp-layout-color3: var(--colab-primary-surface-color, white);\n",
       "                }\n",
       "            </style>\n",
       "            "
      ],
      "text/plain": [
       "<IPython.core.display.HTML object>"
      ]
     },
     "metadata": {},
     "output_type": "display_data"
    },
    {
     "data": {
      "text/plain": [
       "0   2023-10-10 06:34:00+05:30\n",
       "1   2023-10-10 16:40:00+05:30\n",
       "2   2023-11-16 07:01:00+05:30\n",
       "3   2023-11-16 16:11:00+05:30\n",
       "4   2023-12-16 07:21:00+05:30\n",
       "5   2023-12-16 16:37:00+05:30\n",
       "6   2024-01-05 07:38:00+05:30\n",
       "7   2024-01-05 16:36:00+05:30\n",
       "8   2024-02-06 07:15:00+05:30\n",
       "9   2024-02-06 16:03:00+05:30\n",
       "Name: sample_dt, dtype: datetime64[ms, UTC+05:30]"
      ]
     },
     "execution_count": 46,
     "metadata": {},
     "output_type": "execute_result"
    }
   ],
   "source": [
    "temp['sample_dt']"
   ]
  },
  {
   "cell_type": "code",
   "execution_count": 64,
   "metadata": {},
   "outputs": [
    {
     "data": {
      "text/html": [
       "\n",
       "            <style>\n",
       "                .geemap-dark {\n",
       "                    --jp-widgets-color: white;\n",
       "                    --jp-widgets-label-color: white;\n",
       "                    --jp-ui-font-color1: white;\n",
       "                    --jp-layout-color2: #454545;\n",
       "                    background-color: #383838;\n",
       "                }\n",
       "\n",
       "                .geemap-dark .jupyter-button {\n",
       "                    --jp-layout-color3: #383838;\n",
       "                }\n",
       "\n",
       "                .geemap-colab {\n",
       "                    background-color: var(--colab-primary-surface-color, white);\n",
       "                }\n",
       "\n",
       "                .geemap-colab .jupyter-button {\n",
       "                    --jp-layout-color3: var(--colab-primary-surface-color, white);\n",
       "                }\n",
       "            </style>\n",
       "            "
      ],
      "text/plain": [
       "<IPython.core.display.HTML object>"
      ]
     },
     "metadata": {},
     "output_type": "display_data"
    },
    {
     "data": {
      "text/plain": [
       "[datetime.datetime(2023, 10, 10, 6, 30, tzinfo=<DstTzInfo 'Asia/Kolkata' IST+5:30:00 STD>),\n",
       " datetime.datetime(2023, 10, 10, 16, 30, tzinfo=<DstTzInfo 'Asia/Kolkata' IST+5:30:00 STD>),\n",
       " datetime.datetime(2023, 11, 16, 7, 30, tzinfo=<DstTzInfo 'Asia/Kolkata' IST+5:30:00 STD>),\n",
       " datetime.datetime(2023, 11, 16, 16, 30, tzinfo=<DstTzInfo 'Asia/Kolkata' IST+5:30:00 STD>),\n",
       " datetime.datetime(2023, 12, 16, 7, 30, tzinfo=<DstTzInfo 'Asia/Kolkata' IST+5:30:00 STD>),\n",
       " datetime.datetime(2023, 12, 16, 16, 30, tzinfo=<DstTzInfo 'Asia/Kolkata' IST+5:30:00 STD>),\n",
       " datetime.datetime(2024, 1, 5, 7, 30, tzinfo=<DstTzInfo 'Asia/Kolkata' IST+5:30:00 STD>),\n",
       " datetime.datetime(2024, 1, 5, 16, 30, tzinfo=<DstTzInfo 'Asia/Kolkata' IST+5:30:00 STD>),\n",
       " datetime.datetime(2024, 2, 6, 7, 30, tzinfo=<DstTzInfo 'Asia/Kolkata' IST+5:30:00 STD>),\n",
       " datetime.datetime(2024, 2, 6, 16, 30, tzinfo=<DstTzInfo 'Asia/Kolkata' IST+5:30:00 STD>)]"
      ]
     },
     "execution_count": 64,
     "metadata": {},
     "output_type": "execute_result"
    }
   ],
   "source": [
    "[datetime.fromtimestamp(d/1000, tz=pytz.timezone('Asia/Kolkata')) for d in forecast_times]"
   ]
  },
  {
   "cell_type": "code",
   "execution_count": 67,
   "metadata": {},
   "outputs": [
    {
     "data": {
      "text/html": [
       "\n",
       "            <style>\n",
       "                .geemap-dark {\n",
       "                    --jp-widgets-color: white;\n",
       "                    --jp-widgets-label-color: white;\n",
       "                    --jp-ui-font-color1: white;\n",
       "                    --jp-layout-color2: #454545;\n",
       "                    background-color: #383838;\n",
       "                }\n",
       "\n",
       "                .geemap-dark .jupyter-button {\n",
       "                    --jp-layout-color3: #383838;\n",
       "                }\n",
       "\n",
       "                .geemap-colab {\n",
       "                    background-color: var(--colab-primary-surface-color, white);\n",
       "                }\n",
       "\n",
       "                .geemap-colab .jupyter-button {\n",
       "                    --jp-layout-color3: var(--colab-primary-surface-color, white);\n",
       "                }\n",
       "            </style>\n",
       "            "
      ],
      "text/plain": [
       "<IPython.core.display.HTML object>"
      ]
     },
     "metadata": {},
     "output_type": "display_data"
    },
    {
     "data": {
      "text/plain": [
       "0   2023-10-10 06:34:00+05:30\n",
       "1   2023-10-10 16:40:00+05:30\n",
       "2   2023-11-16 07:01:00+05:30\n",
       "3   2023-11-16 16:11:00+05:30\n",
       "4   2023-12-16 07:21:00+05:30\n",
       "5   2023-12-16 16:37:00+05:30\n",
       "6   2024-01-05 07:38:00+05:30\n",
       "7   2024-01-05 16:36:00+05:30\n",
       "8   2024-02-06 07:15:00+05:30\n",
       "9   2024-02-06 16:03:00+05:30\n",
       "Name: sample_dt, dtype: datetime64[ms, UTC+05:30]"
      ]
     },
     "execution_count": 67,
     "metadata": {},
     "output_type": "execute_result"
    }
   ],
   "source": [
    "temp['sample_dt']"
   ]
  },
  {
   "cell_type": "code",
   "execution_count": 80,
   "metadata": {},
   "outputs": [
    {
     "data": {
      "text/html": [
       "\n",
       "            <style>\n",
       "                .geemap-dark {\n",
       "                    --jp-widgets-color: white;\n",
       "                    --jp-widgets-label-color: white;\n",
       "                    --jp-ui-font-color1: white;\n",
       "                    --jp-layout-color2: #454545;\n",
       "                    background-color: #383838;\n",
       "                }\n",
       "\n",
       "                .geemap-dark .jupyter-button {\n",
       "                    --jp-layout-color3: #383838;\n",
       "                }\n",
       "\n",
       "                .geemap-colab {\n",
       "                    background-color: var(--colab-primary-surface-color, white);\n",
       "                }\n",
       "\n",
       "                .geemap-colab .jupyter-button {\n",
       "                    --jp-layout-color3: var(--colab-primary-surface-color, white);\n",
       "                }\n",
       "            </style>\n",
       "            "
      ],
      "text/plain": [
       "<IPython.core.display.HTML object>"
      ]
     },
     "metadata": {},
     "output_type": "display_data"
    },
    {
     "name": "stderr",
     "output_type": "stream",
     "text": [
      "C:\\Users\\squaade\\AppData\\Local\\Temp\\ipykernel_17024\\1914627604.py:1: FutureWarning: The behavior of DatetimeProperties.to_pydatetime is deprecated, in a future version this will return a Series containing python datetime objects instead of an ndarray. To retain the old behavior, call `np.array` on the result\n",
      "  list(map(lambda d: d.astimezone(timezone.utc), temp['sample_dt'].dt.to_pydatetime()))\n"
     ]
    },
    {
     "data": {
      "text/plain": [
       "[datetime.datetime(2023, 10, 10, 1, 4, tzinfo=datetime.timezone.utc),\n",
       " datetime.datetime(2023, 10, 10, 11, 10, tzinfo=datetime.timezone.utc),\n",
       " datetime.datetime(2023, 11, 16, 1, 31, tzinfo=datetime.timezone.utc),\n",
       " datetime.datetime(2023, 11, 16, 10, 41, tzinfo=datetime.timezone.utc),\n",
       " datetime.datetime(2023, 12, 16, 1, 51, tzinfo=datetime.timezone.utc),\n",
       " datetime.datetime(2023, 12, 16, 11, 7, tzinfo=datetime.timezone.utc),\n",
       " datetime.datetime(2024, 1, 5, 2, 8, tzinfo=datetime.timezone.utc),\n",
       " datetime.datetime(2024, 1, 5, 11, 6, tzinfo=datetime.timezone.utc),\n",
       " datetime.datetime(2024, 2, 6, 1, 45, tzinfo=datetime.timezone.utc),\n",
       " datetime.datetime(2024, 2, 6, 10, 33, tzinfo=datetime.timezone.utc)]"
      ]
     },
     "execution_count": 80,
     "metadata": {},
     "output_type": "execute_result"
    }
   ],
   "source": [
    "list(map(lambda d: d.astimezone(timezone.utc), temp['sample_dt'].dt.to_pydatetime()))"
   ]
  },
  {
   "cell_type": "markdown",
   "metadata": {},
   "source": [
    "### Check date consistency in geo dataset"
   ]
  },
  {
   "cell_type": "code",
   "execution_count": 105,
   "metadata": {},
   "outputs": [
    {
     "data": {
      "text/html": [
       "\n",
       "            <style>\n",
       "                .geemap-dark {\n",
       "                    --jp-widgets-color: white;\n",
       "                    --jp-widgets-label-color: white;\n",
       "                    --jp-ui-font-color1: white;\n",
       "                    --jp-layout-color2: #454545;\n",
       "                    background-color: #383838;\n",
       "                }\n",
       "\n",
       "                .geemap-dark .jupyter-button {\n",
       "                    --jp-layout-color3: #383838;\n",
       "                }\n",
       "\n",
       "                .geemap-colab {\n",
       "                    background-color: var(--colab-primary-surface-color, white);\n",
       "                }\n",
       "\n",
       "                .geemap-colab .jupyter-button {\n",
       "                    --jp-layout-color3: var(--colab-primary-surface-color, white);\n",
       "                }\n",
       "            </style>\n",
       "            "
      ],
      "text/plain": [
       "<IPython.core.display.HTML object>"
      ]
     },
     "metadata": {},
     "output_type": "display_data"
    }
   ],
   "source": [
    "gfs_data = pd.read_csv(\"../data/gcs/train/gfs/measurements_with_metadata.csv\")\n",
    "gfs_data = gfs_data.drop(columns=['system:index', '.geo'])"
   ]
  },
  {
   "cell_type": "code",
   "execution_count": 110,
   "metadata": {},
   "outputs": [
    {
     "data": {
      "text/html": [
       "\n",
       "            <style>\n",
       "                .geemap-dark {\n",
       "                    --jp-widgets-color: white;\n",
       "                    --jp-widgets-label-color: white;\n",
       "                    --jp-ui-font-color1: white;\n",
       "                    --jp-layout-color2: #454545;\n",
       "                    background-color: #383838;\n",
       "                }\n",
       "\n",
       "                .geemap-dark .jupyter-button {\n",
       "                    --jp-layout-color3: #383838;\n",
       "                }\n",
       "\n",
       "                .geemap-colab {\n",
       "                    background-color: var(--colab-primary-surface-color, white);\n",
       "                }\n",
       "\n",
       "                .geemap-colab .jupyter-button {\n",
       "                    --jp-layout-color3: var(--colab-primary-surface-color, white);\n",
       "                }\n",
       "            </style>\n",
       "            "
      ],
      "text/plain": [
       "<IPython.core.display.HTML object>"
      ]
     },
     "metadata": {},
     "output_type": "display_data"
    },
    {
     "data": {
      "text/html": [
       "<div>\n",
       "<style scoped>\n",
       "    .dataframe tbody tr th:only-of-type {\n",
       "        vertical-align: middle;\n",
       "    }\n",
       "\n",
       "    .dataframe tbody tr th {\n",
       "        vertical-align: top;\n",
       "    }\n",
       "\n",
       "    .dataframe thead th {\n",
       "        text-align: right;\n",
       "    }\n",
       "</style>\n",
       "<table border=\"1\" class=\"dataframe\">\n",
       "  <thead>\n",
       "    <tr style=\"text-align: right;\">\n",
       "      <th></th>\n",
       "      <th>creation_time</th>\n",
       "      <th>forecast_creation_dt</th>\n",
       "    </tr>\n",
       "  </thead>\n",
       "  <tbody>\n",
       "    <tr>\n",
       "      <th>0</th>\n",
       "      <td>2023-10-08 23:30:00+05:30</td>\n",
       "      <td>2.023101e+09</td>\n",
       "    </tr>\n",
       "    <tr>\n",
       "      <th>1</th>\n",
       "      <td>2023-10-08 23:30:00+05:30</td>\n",
       "      <td>2.023101e+09</td>\n",
       "    </tr>\n",
       "    <tr>\n",
       "      <th>2</th>\n",
       "      <td>2023-10-08 23:30:00+05:30</td>\n",
       "      <td>2.023101e+09</td>\n",
       "    </tr>\n",
       "    <tr>\n",
       "      <th>3</th>\n",
       "      <td>2023-10-08 23:30:00+05:30</td>\n",
       "      <td>2.023101e+09</td>\n",
       "    </tr>\n",
       "    <tr>\n",
       "      <th>4</th>\n",
       "      <td>2023-10-08 23:30:00+05:30</td>\n",
       "      <td>2.023101e+09</td>\n",
       "    </tr>\n",
       "  </tbody>\n",
       "</table>\n",
       "</div>"
      ],
      "text/plain": [
       "              creation_time  forecast_creation_dt\n",
       "0 2023-10-08 23:30:00+05:30          2.023101e+09\n",
       "1 2023-10-08 23:30:00+05:30          2.023101e+09\n",
       "2 2023-10-08 23:30:00+05:30          2.023101e+09\n",
       "3 2023-10-08 23:30:00+05:30          2.023101e+09\n",
       "4 2023-10-08 23:30:00+05:30          2.023101e+09"
      ]
     },
     "execution_count": 110,
     "metadata": {},
     "output_type": "execute_result"
    }
   ],
   "source": [
    "gfs_data = gfs_data[gfs_data['forecast_hour'].notna()] # Stick to numeric forecast times\n",
    "gfs_data['creation_time'] = pd.to_datetime(gfs_data['forecast_creation_dt'].astype(int).astype(str), format='%Y%m%d%H', utc=True).dt.tz_convert(pytz.timezone('Asia/Kolkata'))\n",
    "gfs_data[['creation_time', 'forecast_creation_dt']].head()"
   ]
  },
  {
   "cell_type": "code",
   "execution_count": null,
   "metadata": {},
   "outputs": [],
   "source": [
    "gfs_data['sample_dt'] = gfs_data['sample_idx'].map(ds.set_index('sample_idx')['sample_dt'])\n",
    "gfs_data['forecast_time_check'] = gfs_data['creation_time'] + pd.to_timedelta(gfs_data['forecast_hour'], 'hour')\n",
    "gfs_data[['sample_idx', 'creation_time', 'sample_dt', 'forecast_time_check', 'forecast_hour', 'forecast_time']].head(40)"
   ]
  },
  {
   "cell_type": "markdown",
   "metadata": {},
   "source": [
    "Times all appear correct to me. Now check subsequent cleaning."
   ]
  },
  {
   "cell_type": "code",
   "execution_count": 113,
   "metadata": {},
   "outputs": [
    {
     "data": {
      "text/html": [
       "\n",
       "            <style>\n",
       "                .geemap-dark {\n",
       "                    --jp-widgets-color: white;\n",
       "                    --jp-widgets-label-color: white;\n",
       "                    --jp-ui-font-color1: white;\n",
       "                    --jp-layout-color2: #454545;\n",
       "                    background-color: #383838;\n",
       "                }\n",
       "\n",
       "                .geemap-dark .jupyter-button {\n",
       "                    --jp-layout-color3: #383838;\n",
       "                }\n",
       "\n",
       "                .geemap-colab {\n",
       "                    background-color: var(--colab-primary-surface-color, white);\n",
       "                }\n",
       "\n",
       "                .geemap-colab .jupyter-button {\n",
       "                    --jp-layout-color3: var(--colab-primary-surface-color, white);\n",
       "                }\n",
       "            </style>\n",
       "            "
      ],
      "text/plain": [
       "<IPython.core.display.HTML object>"
      ]
     },
     "metadata": {},
     "output_type": "display_data"
    }
   ],
   "source": [
    "observations_per_measurement = gfs_data.groupby('sample_idx').size()\n",
    "assert (observations_per_measurement.eq(observations_per_measurement.iloc[0]).all()), (\n",
    "\t\"Number of observations per measurement varies.\"\n",
    ")\n",
    "\n",
    "# Reorder columns and rows\n",
    "front_cols = ['sample_idx', 'forecast_time', 'forecast_creation_dt', 'forecast_hour'] \n",
    "gfs_data = gfs_data[front_cols + [col for col in gfs_data.columns if col not in front_cols]]\n",
    "gfs_data = gfs_data.sort_values(['sample_idx', 'forecast_time'])\n",
    "\n",
    "# Pivot wide to one observation per measurement\n",
    "value_cols = gfs_data.columns[~gfs_data.columns.isin(front_cols)].tolist()\n",
    "gfs_data_wide = gfs_data.pivot(index='sample_idx', columns='forecast_time', values=value_cols)"
   ]
  },
  {
   "cell_type": "markdown",
   "metadata": {},
   "source": [
    "This also looks correct to me"
   ]
  }
 ],
 "metadata": {
  "kernelspec": {
   "display_name": ".venv",
   "language": "python",
   "name": "python3"
  },
  "language_info": {
   "codemirror_mode": {
    "name": "ipython",
    "version": 3
   },
   "file_extension": ".py",
   "mimetype": "text/x-python",
   "name": "python",
   "nbconvert_exporter": "python",
   "pygments_lexer": "ipython3",
   "version": "3.12.7"
  }
 },
 "nbformat": 4,
 "nbformat_minor": 2
}
