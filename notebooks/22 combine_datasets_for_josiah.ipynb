{
 "cells": [
  {
   "cell_type": "code",
   "execution_count": 2,
   "metadata": {},
   "outputs": [],
   "source": [
    "import sys\n",
    "\n",
    "import pandas as pd\n",
    "\n",
    "from fwi_predict.constants import TZ_STRING\n",
    "from fwi_predict.wq import WQ_RANGES, get_in_required_range\n",
    "\n",
    "sys.path.append(\"..\")\n",
    "from scripts.clean_ara_measurements import column_map"
   ]
  },
  {
   "cell_type": "code",
   "execution_count": 3,
   "metadata": {},
   "outputs": [],
   "source": [
    "jun_dec_samples = pd.read_excel(\"../data/raw/Testing Data Jun-Dec 2024.xls\")\n"
   ]
  },
  {
   "cell_type": "code",
   "execution_count": 4,
   "metadata": {},
   "outputs": [],
   "source": [
    "jun_dec_samples = jun_dec_samples.rename(columns=column_map).rename(columns={'DO (mg/L)': 'do_mg_per_L', 'Turbidity (in cm)': 'turbidity_cm', 'Is follow up': 'follow_up'})"
   ]
  },
  {
   "cell_type": "code",
   "execution_count": 5,
   "metadata": {},
   "outputs": [],
   "source": [
    "jun_dec_samples['sample_dt'] = pd.to_datetime(\n",
    "\tjun_dec_samples['Date of data collection'].dt.strftime('%Y-%m-%d') + ' ' + \n",
    "\tjun_dec_samples['Time of data collection'].astype(str)\n",
    ")\n",
    "jun_dec_samples['sample_dt'] = jun_dec_samples['sample_dt'].dt.tz_localize(TZ_STRING)"
   ]
  },
  {
   "cell_type": "code",
   "execution_count": 6,
   "metadata": {},
   "outputs": [],
   "source": [
    "jun_dec_samples = jun_dec_samples[['sample_dt', 'do_mg_per_L', 'turbidity_cm', 'ph', 'ammonia_mg_per_L', 'pond_id']]"
   ]
  },
  {
   "cell_type": "code",
   "execution_count": 12,
   "metadata": {},
   "outputs": [],
   "source": [
    "jun_dec_samples['morning'] = jun_dec_samples['sample_dt'].dt.hour < 12\n",
    "jun_dec_samples['time_of_day'] = jun_dec_samples['morning'].apply(lambda x: 'morning' if x else 'evening')\n",
    "for param in WQ_RANGES.keys():\n",
    "  range_name = param.split('_')[0] + '_in_range'\n",
    "  jun_dec_samples[range_name] = get_in_required_range(param, jun_dec_samples[param], jun_dec_samples['time_of_day'])"
   ]
  },
  {
   "cell_type": "code",
   "execution_count": 13,
   "metadata": {},
   "outputs": [],
   "source": [
    "predict_df = pd.read_csv(\"../data/predict_dfs/train/measurements_with_metadata_predict_df.csv\", parse_dates=['sample_dt'])\n",
    "\n",
    "# Get parameters for classification problem\n",
    "predict_df['morning'] = predict_df['hour'] < 12\n",
    "predict_df['time_of_day'] = predict_df['morning'].apply(lambda x: 'morning' if x else 'evening')\n",
    "for param in WQ_RANGES.keys():\n",
    "  range_name = param.split('_')[0] + '_in_range'\n",
    "  predict_df[range_name] = get_in_required_range(param, predict_df[param], predict_df['time_of_day'])"
   ]
  },
  {
   "cell_type": "code",
   "execution_count": null,
   "metadata": {},
   "outputs": [],
   "source": [
    "predict_df['ds'] = 'train'\n",
    "jun_dec_samples['ds'] = 'jun_dec_24_test'"
   ]
  },
  {
   "cell_type": "code",
   "execution_count": 18,
   "metadata": {},
   "outputs": [],
   "source": [
    "common_cols = jun_dec_samples.columns[jun_dec_samples.columns.isin(predict_df.columns)].tolist()\n",
    "combined = pd.concat([predict_df[common_cols], jun_dec_samples[common_cols]], ignore_index=True)"
   ]
  },
  {
   "cell_type": "code",
   "execution_count": 20,
   "metadata": {},
   "outputs": [],
   "source": [
    "combined.to_csv(\"../data/clean/combined_josiah_compare.csv\", index=False)"
   ]
  }
 ],
 "metadata": {
  "kernelspec": {
   "display_name": ".venv",
   "language": "python",
   "name": "python3"
  },
  "language_info": {
   "codemirror_mode": {
    "name": "ipython",
    "version": 3
   },
   "file_extension": ".py",
   "mimetype": "text/x-python",
   "name": "python",
   "nbconvert_exporter": "python",
   "pygments_lexer": "ipython3",
   "version": "3.12.7"
  }
 },
 "nbformat": 4,
 "nbformat_minor": 2
}
