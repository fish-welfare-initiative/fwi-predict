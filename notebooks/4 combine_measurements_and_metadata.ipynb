{
 "cells": [
  {
   "cell_type": "code",
   "execution_count": 8,
   "metadata": {},
   "outputs": [],
   "source": [
    "import geopandas as gpd\n",
    "import pandas as pd\n",
    "\n",
    "from fwi_predict.constants import WQ_RANGES\n",
    "from fwi_predict.wq import get_in_required_range"
   ]
  },
  {
   "cell_type": "code",
   "execution_count": 9,
   "metadata": {},
   "outputs": [],
   "source": [
    "ponds = gpd.read_file(\"../data/clean/pond_metadata_clean.geojson\")\n",
    "measurements = pd.read_csv(\"../data/clean/ara_measurements_clean.csv\",\n",
    "                           parse_dates=['sample_dt', 'prescribed_collection_date'])"
   ]
  },
  {
   "cell_type": "code",
   "execution_count": 10,
   "metadata": {},
   "outputs": [
    {
     "data": {
      "text/plain": [
       "0      2021-08-26 07:45:00+05:30\n",
       "1      2021-08-26 17:25:00+05:30\n",
       "2      2021-09-13 06:45:00+05:30\n",
       "3      2021-09-13 16:50:00+05:30\n",
       "4      2021-09-28 06:37:00+05:30\n",
       "                  ...           \n",
       "6728   2024-01-04 15:49:00+05:30\n",
       "6729   2024-02-04 07:45:00+05:30\n",
       "6730   2024-02-04 16:25:00+05:30\n",
       "6731   2024-03-06 07:30:00+05:30\n",
       "6732   2024-03-06 16:30:00+05:30\n",
       "Name: sample_dt, Length: 6733, dtype: datetime64[ns, UTC+05:30]"
      ]
     },
     "execution_count": 10,
     "metadata": {},
     "output_type": "execute_result"
    }
   ],
   "source": [
    "measurements['sample_dt']"
   ]
  },
  {
   "cell_type": "code",
   "execution_count": 11,
   "metadata": {},
   "outputs": [],
   "source": [
    "# Subset to columns of interest\n",
    "ponds_cols = ['pond_id', 'property_area_acres', 'pond_area_acres',\n",
    "                      'pond_depth_meters', 'geometry']\n",
    "pond_measurement_cols = ['pond_id', 'region', 'farm_id', 'sample_dt', 'do_mg_per_L',\n",
    "                         'ph', 'turbidity_cm', 'ammonia_mg_per_L', 'time_of_day']\n",
    "\n",
    "# Construct days since last measurement variable. This would suggest including water quality correction"
   ]
  },
  {
   "cell_type": "code",
   "execution_count": 12,
   "metadata": {},
   "outputs": [],
   "source": [
    "ponds = ponds[ponds_cols]\n",
    "ponds = ponds[ponds['geometry'].notna()] # Have to have locations to get weather data.\n",
    "measurements = measurements[measurements['follow_up'] == False]\n",
    "measurements = measurements[pond_measurement_cols]"
   ]
  },
  {
   "cell_type": "code",
   "execution_count": 13,
   "metadata": {},
   "outputs": [
    {
     "name": "stdout",
     "output_type": "stream",
     "text": [
      "Observations with inconsistent times: 44\n"
     ]
    }
   ],
   "source": [
    "# Remove measurements with inconsistent times of day\n",
    "measurements['tod_dt'] = measurements['sample_dt'].apply(lambda x: \"morning\" if x.hour < 12 else \"evening\")\n",
    "print(f\"Observations with inconsistent times: {len(measurements[measurements['tod_dt'] != measurements['time_of_day']])}\")\n",
    "measurements = measurements[measurements['tod_dt'] == measurements['time_of_day']]\n",
    "measurements = measurements.drop(columns=['tod_dt'])"
   ]
  },
  {
   "cell_type": "code",
   "execution_count": 14,
   "metadata": {},
   "outputs": [],
   "source": [
    "combined = gpd.GeoDataFrame(\n",
    "  measurements.merge(ponds, on='pond_id', how='inner'), # Inner as we need location\n",
    "  geometry='geometry',\n",
    "  crs=ponds.crs\n",
    ")"
   ]
  },
  {
   "cell_type": "code",
   "execution_count": 15,
   "metadata": {},
   "outputs": [
    {
     "name": "stdout",
     "output_type": "stream",
     "text": [
      "No measurements for 64 ponds\n"
     ]
    }
   ],
   "source": [
    "ponds_not_included = ponds[~ponds['pond_id'].isin(combined['pond_id'])]\n",
    "print(f\"No measurements for {len(ponds_not_included)} ponds\")"
   ]
  },
  {
   "cell_type": "code",
   "execution_count": 16,
   "metadata": {},
   "outputs": [
    {
     "data": {
      "text/html": [
       "<div>\n",
       "<style scoped>\n",
       "    .dataframe tbody tr th:only-of-type {\n",
       "        vertical-align: middle;\n",
       "    }\n",
       "\n",
       "    .dataframe tbody tr th {\n",
       "        vertical-align: top;\n",
       "    }\n",
       "\n",
       "    .dataframe thead th {\n",
       "        text-align: right;\n",
       "    }\n",
       "</style>\n",
       "<table border=\"1\" class=\"dataframe\">\n",
       "  <thead>\n",
       "    <tr style=\"text-align: right;\">\n",
       "      <th></th>\n",
       "      <th>count</th>\n",
       "      <th>mean</th>\n",
       "      <th>std</th>\n",
       "      <th>min</th>\n",
       "      <th>25%</th>\n",
       "      <th>50%</th>\n",
       "      <th>75%</th>\n",
       "      <th>max</th>\n",
       "    </tr>\n",
       "  </thead>\n",
       "  <tbody>\n",
       "    <tr>\n",
       "      <th>do_mg_per_L</th>\n",
       "      <td>4877.0</td>\n",
       "      <td>6.500465</td>\n",
       "      <td>3.624134</td>\n",
       "      <td>0.00</td>\n",
       "      <td>3.60</td>\n",
       "      <td>4.80</td>\n",
       "      <td>9.40</td>\n",
       "      <td>80.80</td>\n",
       "    </tr>\n",
       "    <tr>\n",
       "      <th>ph</th>\n",
       "      <td>4877.0</td>\n",
       "      <td>8.182413</td>\n",
       "      <td>0.314831</td>\n",
       "      <td>3.38</td>\n",
       "      <td>8.00</td>\n",
       "      <td>8.21</td>\n",
       "      <td>8.39</td>\n",
       "      <td>9.54</td>\n",
       "    </tr>\n",
       "    <tr>\n",
       "      <th>turbidity_cm</th>\n",
       "      <td>3414.0</td>\n",
       "      <td>28.950644</td>\n",
       "      <td>7.524521</td>\n",
       "      <td>9.00</td>\n",
       "      <td>24.00</td>\n",
       "      <td>29.00</td>\n",
       "      <td>32.00</td>\n",
       "      <td>89.00</td>\n",
       "    </tr>\n",
       "    <tr>\n",
       "      <th>ammonia_mg_per_L</th>\n",
       "      <td>2965.0</td>\n",
       "      <td>0.131960</td>\n",
       "      <td>0.257797</td>\n",
       "      <td>0.00</td>\n",
       "      <td>0.01</td>\n",
       "      <td>0.06</td>\n",
       "      <td>0.18</td>\n",
       "      <td>9.00</td>\n",
       "    </tr>\n",
       "    <tr>\n",
       "      <th>property_area_acres</th>\n",
       "      <td>4969.0</td>\n",
       "      <td>9.259086</td>\n",
       "      <td>10.982728</td>\n",
       "      <td>0.25</td>\n",
       "      <td>2.50</td>\n",
       "      <td>5.00</td>\n",
       "      <td>13.00</td>\n",
       "      <td>53.00</td>\n",
       "    </tr>\n",
       "    <tr>\n",
       "      <th>pond_area_acres</th>\n",
       "      <td>4194.0</td>\n",
       "      <td>8.298865</td>\n",
       "      <td>10.499382</td>\n",
       "      <td>0.13</td>\n",
       "      <td>1.65</td>\n",
       "      <td>3.45</td>\n",
       "      <td>10.81</td>\n",
       "      <td>49.80</td>\n",
       "    </tr>\n",
       "    <tr>\n",
       "      <th>pond_depth_meters</th>\n",
       "      <td>4969.0</td>\n",
       "      <td>2.163614</td>\n",
       "      <td>0.808669</td>\n",
       "      <td>1.00</td>\n",
       "      <td>1.90</td>\n",
       "      <td>2.00</td>\n",
       "      <td>2.50</td>\n",
       "      <td>11.00</td>\n",
       "    </tr>\n",
       "  </tbody>\n",
       "</table>\n",
       "</div>"
      ],
      "text/plain": [
       "                      count       mean        std   min    25%    50%    75%  \\\n",
       "do_mg_per_L          4877.0   6.500465   3.624134  0.00   3.60   4.80   9.40   \n",
       "ph                   4877.0   8.182413   0.314831  3.38   8.00   8.21   8.39   \n",
       "turbidity_cm         3414.0  28.950644   7.524521  9.00  24.00  29.00  32.00   \n",
       "ammonia_mg_per_L     2965.0   0.131960   0.257797  0.00   0.01   0.06   0.18   \n",
       "property_area_acres  4969.0   9.259086  10.982728  0.25   2.50   5.00  13.00   \n",
       "pond_area_acres      4194.0   8.298865  10.499382  0.13   1.65   3.45  10.81   \n",
       "pond_depth_meters    4969.0   2.163614   0.808669  1.00   1.90   2.00   2.50   \n",
       "\n",
       "                       max  \n",
       "do_mg_per_L          80.80  \n",
       "ph                    9.54  \n",
       "turbidity_cm         89.00  \n",
       "ammonia_mg_per_L      9.00  \n",
       "property_area_acres  53.00  \n",
       "pond_area_acres      49.80  \n",
       "pond_depth_meters    11.00  "
      ]
     },
     "execution_count": 16,
     "metadata": {},
     "output_type": "execute_result"
    }
   ],
   "source": [
    "combined.describe().T"
   ]
  },
  {
   "cell_type": "code",
   "execution_count": 17,
   "metadata": {},
   "outputs": [],
   "source": [
    "combined['sample_idx'] = pd.Series(range(len(combined)))\n",
    "combined.to_file(\"../data/clean/measurements_with_metadata.geojson\")"
   ]
  },
  {
   "cell_type": "code",
   "execution_count": 16,
   "metadata": {},
   "outputs": [],
   "source": [
    "# report"
   ]
  }
 ],
 "metadata": {
  "kernelspec": {
   "display_name": ".venv",
   "language": "python",
   "name": "python3"
  },
  "language_info": {
   "codemirror_mode": {
    "name": "ipython",
    "version": 3
   },
   "file_extension": ".py",
   "mimetype": "text/x-python",
   "name": "python",
   "nbconvert_exporter": "python",
   "pygments_lexer": "ipython3",
   "version": "3.12.7"
  }
 },
 "nbformat": 4,
 "nbformat_minor": 2
}
