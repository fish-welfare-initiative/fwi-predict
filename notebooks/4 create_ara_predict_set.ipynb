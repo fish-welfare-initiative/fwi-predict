{
 "cells": [
  {
   "cell_type": "code",
   "execution_count": 1,
   "metadata": {},
   "outputs": [],
   "source": [
    "import geopandas as gpd\n",
    "import pandas as pd\n",
    "\n",
    "from fwi_predict.constants import WQ_RANGES\n",
    "from fwi_predict.wq import check_in_range"
   ]
  },
  {
   "cell_type": "code",
   "execution_count": 2,
   "metadata": {},
   "outputs": [],
   "source": [
    "ponds = gpd.read_file(\"../data/clean/pond_metadata_clean.geojson\")\n",
    "measurements = pd.read_csv(\"../data/clean/ara_measurements_clean.csv\",\n",
    "                                parse_dates=['sample_dt', 'prescribed_collection_date'])"
   ]
  },
  {
   "cell_type": "code",
   "execution_count": 3,
   "metadata": {},
   "outputs": [],
   "source": [
    "# Subset to columns of interest\n",
    "ponds_cols = ['pond_id', 'property_area_acres', 'pond_area_acres',\n",
    "                      'pond_depth_meters', 'geometry']\n",
    "pond_measurement_cols = ['pond_id', 'region', 'farm_id', 'group', 'treatment_group',\n",
    "                         'sample_dt', 'time_of_day', 'do_mg_per_L', 'ph', 'turbidity_cm',\n",
    "                         'ammonia_mg_per_L', 'fish_per_acre', 'species', 'primary_productivity_gpp_mg_per_L']\n",
    "\n",
    "# Construct days since last measurement variable. This would suggest including water quality correction"
   ]
  },
  {
   "cell_type": "code",
   "execution_count": 4,
   "metadata": {},
   "outputs": [],
   "source": [
    "ponds = ponds[ponds_cols]\n",
    "ponds = ponds[ponds['geometry'].notna()] # Have to have locations to get weather data.\n",
    "measurements = measurements[measurements['follow_up'] == False]\n",
    "measurements = measurements[pond_measurement_cols]"
   ]
  },
  {
   "cell_type": "code",
   "execution_count": 5,
   "metadata": {},
   "outputs": [
    {
     "name": "stdout",
     "output_type": "stream",
     "text": [
      "Observations with inconsistent times: 44\n"
     ]
    }
   ],
   "source": [
    "# Remove measurements with inconsistent times of day\n",
    "measurements['tod_dt'] = measurements['sample_dt'].apply(lambda x: \"morning\" if x.hour < 12 else \"evening\")\n",
    "print(f\"Observations with inconsistent times: {len(measurements[measurements['tod_dt'] != measurements['time_of_day']])}\")\n",
    "measurements = measurements[measurements['tod_dt'] == measurements['time_of_day']]\n",
    "measurements = measurements.drop(columns=['tod_dt'])"
   ]
  },
  {
   "cell_type": "code",
   "execution_count": 6,
   "metadata": {},
   "outputs": [],
   "source": [
    "predict_ds = gpd.GeoDataFrame(\n",
    "  measurements.merge(ponds, on='pond_id', how='inner'), # Inner as we need location\n",
    "  geometry='geometry',\n",
    "  crs=ponds.crs\n",
    ")"
   ]
  },
  {
   "cell_type": "code",
   "execution_count": 7,
   "metadata": {},
   "outputs": [
    {
     "name": "stdout",
     "output_type": "stream",
     "text": [
      "No measurements for 64 ponds\n"
     ]
    }
   ],
   "source": [
    "ponds_not_included = ponds[~ponds['pond_id'].isin(predict_ds['pond_id'])]\n",
    "print(f\"No measurements for {len(ponds_not_included)} ponds\")"
   ]
  },
  {
   "cell_type": "code",
   "execution_count": 8,
   "metadata": {},
   "outputs": [
    {
     "name": "stderr",
     "output_type": "stream",
     "text": [
      "C:\\Users\\squaade\\Documents\\Github\\fwi-predict\\fwi_predict\\wq.py:38: FutureWarning: Setting an item of incompatible dtype is deprecated and will raise an error in a future version of pandas. Value 'nan' has dtype incompatible with bool, please explicitly cast to a compatible dtype first.\n",
      "  in_range[values.isna() | periods.isna()] = np.nan\n",
      "C:\\Users\\squaade\\Documents\\Github\\fwi-predict\\fwi_predict\\wq.py:44: FutureWarning: Setting an item of incompatible dtype is deprecated and will raise an error in a future version of pandas. Value 'nan' has dtype incompatible with bool, please explicitly cast to a compatible dtype first.\n",
      "  in_range[values.isna()] = np.nan\n",
      "C:\\Users\\squaade\\Documents\\Github\\fwi-predict\\fwi_predict\\wq.py:44: FutureWarning: Setting an item of incompatible dtype is deprecated and will raise an error in a future version of pandas. Value 'nan' has dtype incompatible with bool, please explicitly cast to a compatible dtype first.\n",
      "  in_range[values.isna()] = np.nan\n",
      "C:\\Users\\squaade\\Documents\\Github\\fwi-predict\\fwi_predict\\wq.py:44: FutureWarning: Setting an item of incompatible dtype is deprecated and will raise an error in a future version of pandas. Value 'nan' has dtype incompatible with bool, please explicitly cast to a compatible dtype first.\n",
      "  in_range[values.isna()] = np.nan\n"
     ]
    }
   ],
   "source": [
    "for wq_param in WQ_RANGES.keys():\n",
    "  param_no_unit = wq_param.split('_', 1)[0]\n",
    "  predict_ds[f\"{param_no_unit}_in_req_range\"] = check_in_range(wq_param, predict_ds[wq_param], predict_ds['time_of_day'])"
   ]
  },
  {
   "cell_type": "code",
   "execution_count": 9,
   "metadata": {},
   "outputs": [
    {
     "data": {
      "text/html": [
       "<div>\n",
       "<style scoped>\n",
       "    .dataframe tbody tr th:only-of-type {\n",
       "        vertical-align: middle;\n",
       "    }\n",
       "\n",
       "    .dataframe tbody tr th {\n",
       "        vertical-align: top;\n",
       "    }\n",
       "\n",
       "    .dataframe thead th {\n",
       "        text-align: right;\n",
       "    }\n",
       "</style>\n",
       "<table border=\"1\" class=\"dataframe\">\n",
       "  <thead>\n",
       "    <tr style=\"text-align: right;\">\n",
       "      <th></th>\n",
       "      <th>count</th>\n",
       "      <th>mean</th>\n",
       "      <th>std</th>\n",
       "      <th>min</th>\n",
       "      <th>25%</th>\n",
       "      <th>50%</th>\n",
       "      <th>75%</th>\n",
       "      <th>max</th>\n",
       "    </tr>\n",
       "  </thead>\n",
       "  <tbody>\n",
       "    <tr>\n",
       "      <th>do_mg_per_L</th>\n",
       "      <td>4877.0</td>\n",
       "      <td>6.500465</td>\n",
       "      <td>3.624134</td>\n",
       "      <td>0.00</td>\n",
       "      <td>3.60</td>\n",
       "      <td>4.80</td>\n",
       "      <td>9.40</td>\n",
       "      <td>80.80</td>\n",
       "    </tr>\n",
       "    <tr>\n",
       "      <th>ph</th>\n",
       "      <td>4877.0</td>\n",
       "      <td>8.182413</td>\n",
       "      <td>0.314831</td>\n",
       "      <td>3.38</td>\n",
       "      <td>8.00</td>\n",
       "      <td>8.21</td>\n",
       "      <td>8.39</td>\n",
       "      <td>9.54</td>\n",
       "    </tr>\n",
       "    <tr>\n",
       "      <th>turbidity_cm</th>\n",
       "      <td>3414.0</td>\n",
       "      <td>28.950644</td>\n",
       "      <td>7.524521</td>\n",
       "      <td>9.00</td>\n",
       "      <td>24.00</td>\n",
       "      <td>29.00</td>\n",
       "      <td>32.00</td>\n",
       "      <td>89.00</td>\n",
       "    </tr>\n",
       "    <tr>\n",
       "      <th>ammonia_mg_per_L</th>\n",
       "      <td>2965.0</td>\n",
       "      <td>0.131960</td>\n",
       "      <td>0.257797</td>\n",
       "      <td>0.00</td>\n",
       "      <td>0.01</td>\n",
       "      <td>0.06</td>\n",
       "      <td>0.18</td>\n",
       "      <td>9.00</td>\n",
       "    </tr>\n",
       "    <tr>\n",
       "      <th>fish_per_acre</th>\n",
       "      <td>2868.0</td>\n",
       "      <td>5118.866806</td>\n",
       "      <td>8632.648089</td>\n",
       "      <td>0.00</td>\n",
       "      <td>2300.00</td>\n",
       "      <td>3000.00</td>\n",
       "      <td>3882.00</td>\n",
       "      <td>66667.00</td>\n",
       "    </tr>\n",
       "    <tr>\n",
       "      <th>primary_productivity_gpp_mg_per_L</th>\n",
       "      <td>1202.0</td>\n",
       "      <td>3.440512</td>\n",
       "      <td>2.700201</td>\n",
       "      <td>0.00</td>\n",
       "      <td>1.85</td>\n",
       "      <td>3.00</td>\n",
       "      <td>4.70</td>\n",
       "      <td>16.90</td>\n",
       "    </tr>\n",
       "    <tr>\n",
       "      <th>property_area_acres</th>\n",
       "      <td>4969.0</td>\n",
       "      <td>9.259086</td>\n",
       "      <td>10.982728</td>\n",
       "      <td>0.25</td>\n",
       "      <td>2.50</td>\n",
       "      <td>5.00</td>\n",
       "      <td>13.00</td>\n",
       "      <td>53.00</td>\n",
       "    </tr>\n",
       "    <tr>\n",
       "      <th>pond_area_acres</th>\n",
       "      <td>4194.0</td>\n",
       "      <td>8.298865</td>\n",
       "      <td>10.499382</td>\n",
       "      <td>0.13</td>\n",
       "      <td>1.65</td>\n",
       "      <td>3.45</td>\n",
       "      <td>10.81</td>\n",
       "      <td>49.80</td>\n",
       "    </tr>\n",
       "    <tr>\n",
       "      <th>pond_depth_meters</th>\n",
       "      <td>4969.0</td>\n",
       "      <td>2.163614</td>\n",
       "      <td>0.808669</td>\n",
       "      <td>1.00</td>\n",
       "      <td>1.90</td>\n",
       "      <td>2.00</td>\n",
       "      <td>2.50</td>\n",
       "      <td>11.00</td>\n",
       "    </tr>\n",
       "  </tbody>\n",
       "</table>\n",
       "</div>"
      ],
      "text/plain": [
       "                                    count         mean          std   min  \\\n",
       "do_mg_per_L                        4877.0     6.500465     3.624134  0.00   \n",
       "ph                                 4877.0     8.182413     0.314831  3.38   \n",
       "turbidity_cm                       3414.0    28.950644     7.524521  9.00   \n",
       "ammonia_mg_per_L                   2965.0     0.131960     0.257797  0.00   \n",
       "fish_per_acre                      2868.0  5118.866806  8632.648089  0.00   \n",
       "primary_productivity_gpp_mg_per_L  1202.0     3.440512     2.700201  0.00   \n",
       "property_area_acres                4969.0     9.259086    10.982728  0.25   \n",
       "pond_area_acres                    4194.0     8.298865    10.499382  0.13   \n",
       "pond_depth_meters                  4969.0     2.163614     0.808669  1.00   \n",
       "\n",
       "                                       25%      50%      75%       max  \n",
       "do_mg_per_L                           3.60     4.80     9.40     80.80  \n",
       "ph                                    8.00     8.21     8.39      9.54  \n",
       "turbidity_cm                         24.00    29.00    32.00     89.00  \n",
       "ammonia_mg_per_L                      0.01     0.06     0.18      9.00  \n",
       "fish_per_acre                      2300.00  3000.00  3882.00  66667.00  \n",
       "primary_productivity_gpp_mg_per_L     1.85     3.00     4.70     16.90  \n",
       "property_area_acres                   2.50     5.00    13.00     53.00  \n",
       "pond_area_acres                       1.65     3.45    10.81     49.80  \n",
       "pond_depth_meters                     1.90     2.00     2.50     11.00  "
      ]
     },
     "execution_count": 9,
     "metadata": {},
     "output_type": "execute_result"
    }
   ],
   "source": [
    "predict_ds.describe().T"
   ]
  },
  {
   "cell_type": "code",
   "execution_count": 10,
   "metadata": {},
   "outputs": [],
   "source": [
    "predict_ds['measurement_idx'] = pd.Series([i for i in range(0, len(predict_ds))])\n",
    "predict_ds.to_file(\"../data/clean/ara_predict_ds.geojson\")"
   ]
  },
  {
   "cell_type": "code",
   "execution_count": 11,
   "metadata": {},
   "outputs": [
    {
     "data": {
      "text/plain": [
       "Index(['pond_id', 'region', 'farm_id', 'group', 'treatment_group', 'sample_dt',\n",
       "       'time_of_day', 'do_mg_per_L', 'ph', 'turbidity_cm', 'ammonia_mg_per_L',\n",
       "       'fish_per_acre', 'species', 'primary_productivity_gpp_mg_per_L',\n",
       "       'property_area_acres', 'pond_area_acres', 'pond_depth_meters',\n",
       "       'geometry', 'do_in_req_range', 'ph_in_req_range',\n",
       "       'ammonia_in_req_range', 'turbidity_in_req_range', 'measurement_idx'],\n",
       "      dtype='object')"
      ]
     },
     "execution_count": 11,
     "metadata": {},
     "output_type": "execute_result"
    }
   ],
   "source": [
    "predict_ds.columns"
   ]
  }
 ],
 "metadata": {
  "kernelspec": {
   "display_name": ".venv",
   "language": "python",
   "name": "python3"
  },
  "language_info": {
   "codemirror_mode": {
    "name": "ipython",
    "version": 3
   },
   "file_extension": ".py",
   "mimetype": "text/x-python",
   "name": "python",
   "nbconvert_exporter": "python",
   "pygments_lexer": "ipython3",
   "version": "3.13.0"
  }
 },
 "nbformat": 4,
 "nbformat_minor": 2
}
