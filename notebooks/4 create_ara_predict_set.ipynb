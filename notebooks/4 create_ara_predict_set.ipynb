{
 "cells": [
  {
   "cell_type": "code",
   "execution_count": 31,
   "metadata": {},
   "outputs": [],
   "source": [
    "import geopandas as gpd\n",
    "import pandas as pd\n",
    "\n",
    "from fwi_predict.constants import WQ_RANGES\n",
    "from fwi_predict.wq import check_in_range"
   ]
  },
  {
   "cell_type": "code",
   "execution_count": 32,
   "metadata": {},
   "outputs": [],
   "source": [
    "ponds = gpd.read_file(\"../data/clean/pond_metadata_clean.geojson\")\n",
    "measurements = pd.read_csv(\"../data/clean/ara_measurements_clean.csv\",\n",
    "                                parse_dates=['sample_dt', 'prescribed_collection_date'])"
   ]
  },
  {
   "cell_type": "code",
   "execution_count": 33,
   "metadata": {},
   "outputs": [],
   "source": [
    "# Subset to columns of interest\n",
    "ponds_cols = ['pond_id', 'property_area_acres', 'pond_area_acres',\n",
    "                      'pond_depth_meters', 'geometry']\n",
    "pond_measurement_cols = ['pond_id', 'region', 'farm_id', 'group', 'treatment_group',\n",
    "                         'sample_dt', 'time_of_day', 'do_mg_per_L', 'ph', 'turbidity_cm',\n",
    "                         'ammonia_mg_per_L', 'fish_per_acre', 'species', 'primary_productivity_gpp_mg_per_L']\n",
    "\n",
    "# Construct days since last measurement variable. This would suggest including water quality correction"
   ]
  },
  {
   "cell_type": "code",
   "execution_count": 34,
   "metadata": {},
   "outputs": [],
   "source": [
    "ponds = ponds[ponds_cols]\n",
    "ponds = ponds[ponds['geometry'].notna()] # Have to have locations to get weather data.\n",
    "measurements = measurements[measurements['follow_up'] == False]\n",
    "measurements = measurements[pond_measurement_cols]"
   ]
  },
  {
   "cell_type": "code",
   "execution_count": 35,
   "metadata": {},
   "outputs": [],
   "source": [
    "predict_ds = gpd.GeoDataFrame(\n",
    "  measurements.merge(ponds, on='pond_id', how='inner'), # Inner as we need location\n",
    "  geometry='geometry',\n",
    "  crs=ponds.crs\n",
    ")"
   ]
  },
  {
   "cell_type": "code",
   "execution_count": 36,
   "metadata": {},
   "outputs": [
    {
     "name": "stdout",
     "output_type": "stream",
     "text": [
      "No measurements for 66 ponds\n"
     ]
    }
   ],
   "source": [
    "ponds_not_included = ponds[~ponds['pond_id'].isin(predict_ds['pond_id'])]\n",
    "print(f\"No measurements for {len(ponds_not_included)} ponds\")"
   ]
  },
  {
   "cell_type": "code",
   "execution_count": 37,
   "metadata": {},
   "outputs": [
    {
     "name": "stderr",
     "output_type": "stream",
     "text": [
      "C:\\Users\\squaade\\Documents\\Github\\fwi-predict\\fwi_predict\\wq.py:38: FutureWarning: Setting an item of incompatible dtype is deprecated and will raise an error in a future version of pandas. Value 'nan' has dtype incompatible with bool, please explicitly cast to a compatible dtype first.\n",
      "  in_range[values.isna() | periods.isna()] = np.nan\n",
      "C:\\Users\\squaade\\Documents\\Github\\fwi-predict\\fwi_predict\\wq.py:44: FutureWarning: Setting an item of incompatible dtype is deprecated and will raise an error in a future version of pandas. Value 'nan' has dtype incompatible with bool, please explicitly cast to a compatible dtype first.\n",
      "  in_range[values.isna()] = np.nan\n",
      "C:\\Users\\squaade\\Documents\\Github\\fwi-predict\\fwi_predict\\wq.py:44: FutureWarning: Setting an item of incompatible dtype is deprecated and will raise an error in a future version of pandas. Value 'nan' has dtype incompatible with bool, please explicitly cast to a compatible dtype first.\n",
      "  in_range[values.isna()] = np.nan\n",
      "C:\\Users\\squaade\\Documents\\Github\\fwi-predict\\fwi_predict\\wq.py:44: FutureWarning: Setting an item of incompatible dtype is deprecated and will raise an error in a future version of pandas. Value 'nan' has dtype incompatible with bool, please explicitly cast to a compatible dtype first.\n",
      "  in_range[values.isna()] = np.nan\n"
     ]
    }
   ],
   "source": [
    "for wq_param in WQ_RANGES.keys():\n",
    "  param_no_unit = wq_param.split('_', 1)[0]\n",
    "  predict_ds[f\"{param_no_unit}_in_req_range\"] = check_in_range(wq_param, predict_ds[wq_param], predict_ds['time_of_day'])"
   ]
  },
  {
   "cell_type": "code",
   "execution_count": 38,
   "metadata": {},
   "outputs": [
    {
     "data": {
      "text/html": [
       "<div>\n",
       "<style scoped>\n",
       "    .dataframe tbody tr th:only-of-type {\n",
       "        vertical-align: middle;\n",
       "    }\n",
       "\n",
       "    .dataframe tbody tr th {\n",
       "        vertical-align: top;\n",
       "    }\n",
       "\n",
       "    .dataframe thead th {\n",
       "        text-align: right;\n",
       "    }\n",
       "</style>\n",
       "<table border=\"1\" class=\"dataframe\">\n",
       "  <thead>\n",
       "    <tr style=\"text-align: right;\">\n",
       "      <th></th>\n",
       "      <th>count</th>\n",
       "      <th>mean</th>\n",
       "      <th>std</th>\n",
       "      <th>min</th>\n",
       "      <th>25%</th>\n",
       "      <th>50%</th>\n",
       "      <th>75%</th>\n",
       "      <th>max</th>\n",
       "    </tr>\n",
       "  </thead>\n",
       "  <tbody>\n",
       "    <tr>\n",
       "      <th>do_mg_per_L</th>\n",
       "      <td>4611.0</td>\n",
       "      <td>6.553019</td>\n",
       "      <td>3.630798</td>\n",
       "      <td>0.00</td>\n",
       "      <td>3.60</td>\n",
       "      <td>4.84</td>\n",
       "      <td>9.40</td>\n",
       "      <td>80.80</td>\n",
       "    </tr>\n",
       "    <tr>\n",
       "      <th>ph</th>\n",
       "      <td>4610.0</td>\n",
       "      <td>8.183351</td>\n",
       "      <td>0.311804</td>\n",
       "      <td>3.38</td>\n",
       "      <td>8.00</td>\n",
       "      <td>8.21</td>\n",
       "      <td>8.39</td>\n",
       "      <td>9.54</td>\n",
       "    </tr>\n",
       "    <tr>\n",
       "      <th>turbidity_cm</th>\n",
       "      <td>3319.0</td>\n",
       "      <td>28.831335</td>\n",
       "      <td>7.264532</td>\n",
       "      <td>12.00</td>\n",
       "      <td>24.00</td>\n",
       "      <td>29.00</td>\n",
       "      <td>32.00</td>\n",
       "      <td>85.00</td>\n",
       "    </tr>\n",
       "    <tr>\n",
       "      <th>ammonia_mg_per_L</th>\n",
       "      <td>2819.0</td>\n",
       "      <td>0.131680</td>\n",
       "      <td>0.197666</td>\n",
       "      <td>0.00</td>\n",
       "      <td>0.01</td>\n",
       "      <td>0.07</td>\n",
       "      <td>0.19</td>\n",
       "      <td>3.00</td>\n",
       "    </tr>\n",
       "    <tr>\n",
       "      <th>fish_per_acre</th>\n",
       "      <td>2881.0</td>\n",
       "      <td>5128.636585</td>\n",
       "      <td>8646.901526</td>\n",
       "      <td>0.00</td>\n",
       "      <td>2300.00</td>\n",
       "      <td>3000.00</td>\n",
       "      <td>3882.00</td>\n",
       "      <td>66667.00</td>\n",
       "    </tr>\n",
       "    <tr>\n",
       "      <th>primary_productivity_gpp_mg_per_L</th>\n",
       "      <td>1001.0</td>\n",
       "      <td>2.840345</td>\n",
       "      <td>2.338230</td>\n",
       "      <td>0.00</td>\n",
       "      <td>1.60</td>\n",
       "      <td>2.70</td>\n",
       "      <td>3.71</td>\n",
       "      <td>16.90</td>\n",
       "    </tr>\n",
       "    <tr>\n",
       "      <th>property_area_acres</th>\n",
       "      <td>4692.0</td>\n",
       "      <td>9.519267</td>\n",
       "      <td>11.221710</td>\n",
       "      <td>0.25</td>\n",
       "      <td>2.00</td>\n",
       "      <td>5.00</td>\n",
       "      <td>13.00</td>\n",
       "      <td>53.00</td>\n",
       "    </tr>\n",
       "    <tr>\n",
       "      <th>pond_area_acres</th>\n",
       "      <td>4033.0</td>\n",
       "      <td>8.512341</td>\n",
       "      <td>10.649789</td>\n",
       "      <td>0.13</td>\n",
       "      <td>1.65</td>\n",
       "      <td>3.49</td>\n",
       "      <td>11.24</td>\n",
       "      <td>49.80</td>\n",
       "    </tr>\n",
       "    <tr>\n",
       "      <th>pond_depth_meters</th>\n",
       "      <td>4692.0</td>\n",
       "      <td>2.145908</td>\n",
       "      <td>0.821149</td>\n",
       "      <td>1.00</td>\n",
       "      <td>1.90</td>\n",
       "      <td>2.00</td>\n",
       "      <td>2.50</td>\n",
       "      <td>11.00</td>\n",
       "    </tr>\n",
       "  </tbody>\n",
       "</table>\n",
       "</div>"
      ],
      "text/plain": [
       "                                    count         mean          std    min  \\\n",
       "do_mg_per_L                        4611.0     6.553019     3.630798   0.00   \n",
       "ph                                 4610.0     8.183351     0.311804   3.38   \n",
       "turbidity_cm                       3319.0    28.831335     7.264532  12.00   \n",
       "ammonia_mg_per_L                   2819.0     0.131680     0.197666   0.00   \n",
       "fish_per_acre                      2881.0  5128.636585  8646.901526   0.00   \n",
       "primary_productivity_gpp_mg_per_L  1001.0     2.840345     2.338230   0.00   \n",
       "property_area_acres                4692.0     9.519267    11.221710   0.25   \n",
       "pond_area_acres                    4033.0     8.512341    10.649789   0.13   \n",
       "pond_depth_meters                  4692.0     2.145908     0.821149   1.00   \n",
       "\n",
       "                                       25%      50%      75%       max  \n",
       "do_mg_per_L                           3.60     4.84     9.40     80.80  \n",
       "ph                                    8.00     8.21     8.39      9.54  \n",
       "turbidity_cm                         24.00    29.00    32.00     85.00  \n",
       "ammonia_mg_per_L                      0.01     0.07     0.19      3.00  \n",
       "fish_per_acre                      2300.00  3000.00  3882.00  66667.00  \n",
       "primary_productivity_gpp_mg_per_L     1.60     2.70     3.71     16.90  \n",
       "property_area_acres                   2.00     5.00    13.00     53.00  \n",
       "pond_area_acres                       1.65     3.49    11.24     49.80  \n",
       "pond_depth_meters                     1.90     2.00     2.50     11.00  "
      ]
     },
     "execution_count": 38,
     "metadata": {},
     "output_type": "execute_result"
    }
   ],
   "source": [
    "predict_ds.describe().T"
   ]
  },
  {
   "cell_type": "code",
   "execution_count": 39,
   "metadata": {},
   "outputs": [],
   "source": [
    "predict_ds['measurement_idx'] = pd.Series([i for i in range(0, len(predict_ds))])\n",
    "predict_ds.to_file(\"../data/clean/ara_predict_ds.geojson\")"
   ]
  }
 ],
 "metadata": {
  "kernelspec": {
   "display_name": ".venv",
   "language": "python",
   "name": "python3"
  },
  "language_info": {
   "codemirror_mode": {
    "name": "ipython",
    "version": 3
   },
   "file_extension": ".py",
   "mimetype": "text/x-python",
   "name": "python",
   "nbconvert_exporter": "python",
   "pygments_lexer": "ipython3",
   "version": "3.13.0"
  }
 },
 "nbformat": 4,
 "nbformat_minor": 2
}
