{
 "cells": [
  {
   "cell_type": "code",
   "execution_count": 4,
   "metadata": {},
   "outputs": [
    {
     "data": {
      "text/html": [
       "\n",
       "            <style>\n",
       "                .geemap-dark {\n",
       "                    --jp-widgets-color: white;\n",
       "                    --jp-widgets-label-color: white;\n",
       "                    --jp-ui-font-color1: white;\n",
       "                    --jp-layout-color2: #454545;\n",
       "                    background-color: #383838;\n",
       "                }\n",
       "\n",
       "                .geemap-dark .jupyter-button {\n",
       "                    --jp-layout-color3: #383838;\n",
       "                }\n",
       "\n",
       "                .geemap-colab {\n",
       "                    background-color: var(--colab-primary-surface-color, white);\n",
       "                }\n",
       "\n",
       "                .geemap-colab .jupyter-button {\n",
       "                    --jp-layout-color3: var(--colab-primary-surface-color, white);\n",
       "                }\n",
       "            </style>\n",
       "            "
      ],
      "text/plain": [
       "<IPython.core.display.HTML object>"
      ]
     },
     "metadata": {},
     "output_type": "display_data"
    }
   ],
   "source": [
    "from typing import List\n",
    "\n",
    "import ee\n",
    "import geemap\n",
    "import geopandas as gpd\n",
    "import pandas as pd\n",
    "\n",
    "from fwi_predict.geo.ee import get_gfs"
   ]
  },
  {
   "cell_type": "code",
   "execution_count": 5,
   "metadata": {},
   "outputs": [
    {
     "data": {
      "text/html": [
       "\n",
       "            <style>\n",
       "                .geemap-dark {\n",
       "                    --jp-widgets-color: white;\n",
       "                    --jp-widgets-label-color: white;\n",
       "                    --jp-ui-font-color1: white;\n",
       "                    --jp-layout-color2: #454545;\n",
       "                    background-color: #383838;\n",
       "                }\n",
       "\n",
       "                .geemap-dark .jupyter-button {\n",
       "                    --jp-layout-color3: #383838;\n",
       "                }\n",
       "\n",
       "                .geemap-colab {\n",
       "                    background-color: var(--colab-primary-surface-color, white);\n",
       "                }\n",
       "\n",
       "                .geemap-colab .jupyter-button {\n",
       "                    --jp-layout-color3: var(--colab-primary-surface-color, white);\n",
       "                }\n",
       "            </style>\n",
       "            "
      ],
      "text/plain": [
       "<IPython.core.display.HTML object>"
      ]
     },
     "metadata": {},
     "output_type": "display_data"
    }
   ],
   "source": [
    "ee.Initialize(project='fwi-water-quality-sensing')"
   ]
  },
  {
   "cell_type": "code",
   "execution_count": 6,
   "metadata": {},
   "outputs": [
    {
     "data": {
      "text/html": [
       "\n",
       "            <style>\n",
       "                .geemap-dark {\n",
       "                    --jp-widgets-color: white;\n",
       "                    --jp-widgets-label-color: white;\n",
       "                    --jp-ui-font-color1: white;\n",
       "                    --jp-layout-color2: #454545;\n",
       "                    background-color: #383838;\n",
       "                }\n",
       "\n",
       "                .geemap-dark .jupyter-button {\n",
       "                    --jp-layout-color3: #383838;\n",
       "                }\n",
       "\n",
       "                .geemap-colab {\n",
       "                    background-color: var(--colab-primary-surface-color, white);\n",
       "                }\n",
       "\n",
       "                .geemap-colab .jupyter-button {\n",
       "                    --jp-layout-color3: var(--colab-primary-surface-color, white);\n",
       "                }\n",
       "            </style>\n",
       "            "
      ],
      "text/plain": [
       "<IPython.core.display.HTML object>"
      ]
     },
     "metadata": {},
     "output_type": "display_data"
    }
   ],
   "source": [
    "gfs = get_gfs()"
   ]
  },
  {
   "cell_type": "code",
   "execution_count": 7,
   "metadata": {},
   "outputs": [
    {
     "data": {
      "text/html": [
       "\n",
       "            <style>\n",
       "                .geemap-dark {\n",
       "                    --jp-widgets-color: white;\n",
       "                    --jp-widgets-label-color: white;\n",
       "                    --jp-ui-font-color1: white;\n",
       "                    --jp-layout-color2: #454545;\n",
       "                    background-color: #383838;\n",
       "                }\n",
       "\n",
       "                .geemap-dark .jupyter-button {\n",
       "                    --jp-layout-color3: #383838;\n",
       "                }\n",
       "\n",
       "                .geemap-colab {\n",
       "                    background-color: var(--colab-primary-surface-color, white);\n",
       "                }\n",
       "\n",
       "                .geemap-colab .jupyter-button {\n",
       "                    --jp-layout-color3: var(--colab-primary-surface-color, white);\n",
       "                }\n",
       "            </style>\n",
       "            "
      ],
      "text/plain": [
       "<IPython.core.display.HTML object>"
      ]
     },
     "metadata": {},
     "output_type": "display_data"
    }
   ],
   "source": [
    "predict_ds = gpd.read_file(\"../data/clean/measurements_with_metadata.geojson\")\n",
    "predict_ds_ee = geemap.gdf_to_ee(predict_ds)\n",
    "predict_ds_ee = predict_ds_ee.map(lambda f: f.set('sample_dt', ee.Date(f.get('sample_dt')))) # Format dates as ee.Date"
   ]
  },
  {
   "cell_type": "markdown",
   "metadata": {},
   "source": [
    "Understand why different numbers of properties"
   ]
  },
  {
   "cell_type": "code",
   "execution_count": 8,
   "metadata": {},
   "outputs": [
    {
     "data": {
      "text/html": [
       "\n",
       "            <style>\n",
       "                .geemap-dark {\n",
       "                    --jp-widgets-color: white;\n",
       "                    --jp-widgets-label-color: white;\n",
       "                    --jp-ui-font-color1: white;\n",
       "                    --jp-layout-color2: #454545;\n",
       "                    background-color: #383838;\n",
       "                }\n",
       "\n",
       "                .geemap-dark .jupyter-button {\n",
       "                    --jp-layout-color3: #383838;\n",
       "                }\n",
       "\n",
       "                .geemap-colab {\n",
       "                    background-color: var(--colab-primary-surface-color, white);\n",
       "                }\n",
       "\n",
       "                .geemap-colab .jupyter-button {\n",
       "                    --jp-layout-color3: var(--colab-primary-surface-color, white);\n",
       "                }\n",
       "            </style>\n",
       "            "
      ],
      "text/plain": [
       "<IPython.core.display.HTML object>"
      ]
     },
     "metadata": {},
     "output_type": "display_data"
    },
    {
     "ename": "NameError",
     "evalue": "name 'List' is not defined",
     "output_type": "error",
     "traceback": [
      "\u001b[1;31m---------------------------------------------------------------------------\u001b[0m",
      "\u001b[1;31mNameError\u001b[0m                                 Traceback (most recent call last)",
      "Cell \u001b[1;32mIn[8], line 3\u001b[0m\n\u001b[0;32m      1\u001b[0m \u001b[38;5;66;03m# Map over the dates to get forecasts for each date\u001b[39;00m\n\u001b[0;32m      2\u001b[0m \u001b[38;5;28;01mdef\u001b[39;00m \u001b[38;5;21mget_sample_gfs_forecast\u001b[39m(sample: ee\u001b[38;5;241m.\u001b[39mFeature,\n\u001b[1;32m----> 3\u001b[0m \t\t\t\t\t\t\t              forecast_times: \u001b[43mList\u001b[49m,\n\u001b[0;32m      4\u001b[0m \t\t\t\t\t\t\t              gfs: ee\u001b[38;5;241m.\u001b[39mImageCollection \u001b[38;5;241m=\u001b[39m \u001b[38;5;28;01mNone\u001b[39;00m) \u001b[38;5;241m-\u001b[39m\u001b[38;5;241m>\u001b[39m ee\u001b[38;5;241m.\u001b[39mFeatureCollection:\n\u001b[0;32m      5\u001b[0m \u001b[38;5;250m  \u001b[39m\u001b[38;5;124;03m\"\"\"Add docstring.\"\"\"\u001b[39;00m\n\u001b[0;32m      7\u001b[0m \t\u001b[38;5;66;03m# Get GFS data\u001b[39;00m\n",
      "\u001b[1;31mNameError\u001b[0m: name 'List' is not defined"
     ]
    }
   ],
   "source": [
    "# Map over the dates to get forecasts for each date\n",
    "def get_sample_gfs_forecast(sample: ee.Feature,\n",
    "\t\t\t\t\t\t\t              forecast_times: List,\n",
    "\t\t\t\t\t\t\t              gfs: ee.ImageCollection = None) -> ee.FeatureCollection:\n",
    "  \"\"\"Add docstring.\"\"\"\n",
    "\n",
    "\t# Get GFS data\n",
    "  if gfs is None:\n",
    "    gfs = get_gfs()\n",
    "  \n",
    "  # Get times for which we want forecasts.\n",
    "  sample_dt = ee.Date(sample.get('sample_dt'))\n",
    "  day_prior = sample_dt \\\n",
    "    .advance(5.5, 'hour') \\\n",
    "    .advance(-1, 'day') \\\n",
    "    .update(hour=0, minute=0, second=0) #Have to adjust for Asia/Kolkata timezone before finding previous day.\n",
    "  \n",
    "  forecast_time_list = ee.List(forecast_times).map(\n",
    "    lambda hours: day_prior.advance(hours, 'hour').advance(-6, 'hour').millis() # Again adjusting for timezone so forecasts don't overlap with sample time\n",
    "  )\n",
    "\n",
    "  # Pre-filter GFS to reduce computation\n",
    "  search_window = max(forecast_times) - min(forecast_times) + 24\n",
    "\n",
    "  forecast_subset = gfs.filterDate( \n",
    "    ee.Date(forecast_time_list.get(1)).advance(-search_window, 'hour'), # Earliest forecast initialization time we are interested in \n",
    "    sample_dt.advance(-1, 'day') # Want forecasts initialized one day before sample was taken.\n",
    "  )\n",
    "\n",
    "  # Get latest forecast for each forecast (that is at least one day older than sample time)\n",
    "  def get_latest_forecast_for_time(forecast_time: ee.Number) -> ee.Image:\n",
    "    \"\"\"Get most recent forecast for a given forecast time.\"\"\"\n",
    "    # Get frecast for specific time of interest\n",
    "    subset = forecast_subset \\\n",
    "      .filter(ee.Filter.lt('creation_time', forecast_time)) \\\n",
    "      .filter(ee.Filter.eq('forecast_time', forecast_time)) # Less than in first so we get all datapoints.\n",
    "   \n",
    "    # Then get most recent forecast\n",
    "    latest_init_time = subset.aggregate_array('creation_time').sort().get(-1)\n",
    "\n",
    "    return subset.filter(ee.Filter.eq('creation_time', latest_init_time)).first()\n",
    "  \n",
    "  \n",
    "  # Extract forecast values\n",
    "  forecasts_for_times = ee.ImageCollection(\n",
    "    forecast_time_list.map(get_latest_forecast_for_time)\n",
    "  )\n",
    "\n",
    "  # Assign metadata to forecast values and cumulative values\n",
    "  forecast_values = forecasts_for_times \\\n",
    "    .map(lambda img: img.sample(sample.geometry())) \\\n",
    "    .flatten() \\\n",
    "    .map(lambda f: f # Set metadata\n",
    "      .set('forecast_creation_dt', f.id().slice(0, 10)) # Same as below\n",
    "      .set('forecast_time', f.id().slice(11, 14)) # Would be good to make this less hacky\n",
    "      .set('sample_idx', sample.get('sample_idx'))\n",
    "    )\n",
    "\n",
    "    # Get forecast at time of sample\n",
    "  sample_dt_rounded = sample_dt \\\n",
    "    .millis() \\\n",
    "    .divide(1000 * 60 * 60) \\\n",
    "    .round() \\\n",
    "    .multiply(1000 * 60 * 60) # Round sample time to nearest hour\n",
    "  sample_time_forecast = ee.Image(get_latest_forecast_for_time(sample_dt_rounded))\n",
    "\n",
    "  id = sample_time_forecast.getString('system:id').split(\"/\").getString(2)\n",
    "  sample_time_forecast = sample_time_forecast \\\n",
    "    .sample(sample.geometry()) \\\n",
    "    .first()\n",
    "  \n",
    "  sample_time_forecast = sample_time_forecast \\\n",
    "    .set('forecast_creation_dt', id.slice(0, 10)) \\\n",
    "    .set('forecast_time', 'sample') \\\n",
    "    .set('sample_idx', sample.get('sample_idx'))\n",
    "\n",
    "  # Get cumulative values for the week prior to the sample time\n",
    "  # 9 AM UTC is 3:30 PM IST\n",
    "  def get_cumulative_history(lookback_days: ee.Number) -> ee.FeatureCollection:\n",
    "    \"\"\"Get cumulative history for a given number of days.\"\"\"\n",
    "    cum_days = ee.List.sequence(0, ee.Number(lookback_days).multiply(-1), step=-1)\n",
    "    gfs_subset = gfs.filterDate(\n",
    "      day_prior.advance(ee.Number(cum_days.sort().get(0)).subtract(1), 'day'),\n",
    "      sample_dt\n",
    "    )\n",
    "\n",
    "    global_history = ee.ImageCollection(\n",
    "      cum_days\n",
    "      .map(lambda day: day_prior.advance(day, 'day').update(hour=9).millis())\n",
    "      .map(lambda f_time: gfs_subset.filter(ee.Filter.eq('forecast_time', f_time)).sort('creation_time', False).first())\n",
    "    )\n",
    "    global_aggregate = global_history.reduce(ee.Reducer.sum())\n",
    "    \n",
    "    cum_values = ee.Image(global_aggregate)\n",
    "    cum_values = cum_values \\\n",
    "      .rename(cum_values.bandNames().map(lambda name: ee.String(name).slice(0, -4))) \\\n",
    "      .sample(sample.geometry()) \\\n",
    "      .first() # Remove sum from end of band names\n",
    "\n",
    "    return cum_values\n",
    "  \n",
    "  three_day_history = get_cumulative_history(3)\n",
    "  week_history = get_cumulative_history(7)\n",
    "\n",
    "  three_day_history = three_day_history \\\n",
    "    .set('sample_idx', sample.get('sample_idx')) \\\n",
    "    .set('forecast_time', 'three_day_cum')\n",
    "  \n",
    "  week_history = week_history \\\n",
    "    .set('sample_idx', sample.get('sample_idx')) \\\n",
    "    .set('forecast_time', 'seven_day_cum')\n",
    "\n",
    "  # Merge and return\n",
    "  forecast_values = forecast_values.merge(ee.FeatureCollection([sample_time_forecast, three_day_history, week_history]))\n",
    "  \n",
    "  return forecast_values"
   ]
  },
  {
   "cell_type": "code",
   "execution_count": 6,
   "metadata": {},
   "outputs": [
    {
     "data": {
      "text/html": [
       "\n",
       "            <style>\n",
       "                .geemap-dark {\n",
       "                    --jp-widgets-color: white;\n",
       "                    --jp-widgets-label-color: white;\n",
       "                    --jp-ui-font-color1: white;\n",
       "                    --jp-layout-color2: #454545;\n",
       "                    background-color: #383838;\n",
       "                }\n",
       "\n",
       "                .geemap-dark .jupyter-button {\n",
       "                    --jp-layout-color3: #383838;\n",
       "                }\n",
       "\n",
       "                .geemap-colab {\n",
       "                    background-color: var(--colab-primary-surface-color, white);\n",
       "                }\n",
       "\n",
       "                .geemap-colab .jupyter-button {\n",
       "                    --jp-layout-color3: var(--colab-primary-surface-color, white);\n",
       "                }\n",
       "            </style>\n",
       "            "
      ],
      "text/plain": [
       "<IPython.core.display.HTML object>"
      ]
     },
     "metadata": {},
     "output_type": "display_data"
    }
   ],
   "source": [
    "result = predict_ds_ee.map(get_forecasts_for_measurement)"
   ]
  },
  {
   "cell_type": "code",
   "execution_count": 7,
   "metadata": {},
   "outputs": [
    {
     "data": {
      "text/html": [
       "\n",
       "            <style>\n",
       "                .geemap-dark {\n",
       "                    --jp-widgets-color: white;\n",
       "                    --jp-widgets-label-color: white;\n",
       "                    --jp-ui-font-color1: white;\n",
       "                    --jp-layout-color2: #454545;\n",
       "                    background-color: #383838;\n",
       "                }\n",
       "\n",
       "                .geemap-dark .jupyter-button {\n",
       "                    --jp-layout-color3: #383838;\n",
       "                }\n",
       "\n",
       "                .geemap-colab {\n",
       "                    background-color: var(--colab-primary-surface-color, white);\n",
       "                }\n",
       "\n",
       "                .geemap-colab .jupyter-button {\n",
       "                    --jp-layout-color3: var(--colab-primary-surface-color, white);\n",
       "                }\n",
       "            </style>\n",
       "            "
      ],
      "text/plain": [
       "<IPython.core.display.HTML object>"
      ]
     },
     "metadata": {},
     "output_type": "display_data"
    },
    {
     "name": "stdout",
     "output_type": "stream",
     "text": [
      "Exporting gfs_forecast... Please check the Task Manager from the JavaScript Code Editor.\n"
     ]
    }
   ],
   "source": [
    "geemap.ee_export_vector_to_drive(result.flatten(), description='gfs_forecast', fileFormat='CSV')"
   ]
  },
  {
   "cell_type": "code",
   "execution_count": 8,
   "metadata": {},
   "outputs": [
    {
     "data": {
      "text/html": [
       "\n",
       "            <style>\n",
       "                .geemap-dark {\n",
       "                    --jp-widgets-color: white;\n",
       "                    --jp-widgets-label-color: white;\n",
       "                    --jp-ui-font-color1: white;\n",
       "                    --jp-layout-color2: #454545;\n",
       "                    background-color: #383838;\n",
       "                }\n",
       "\n",
       "                .geemap-dark .jupyter-button {\n",
       "                    --jp-layout-color3: #383838;\n",
       "                }\n",
       "\n",
       "                .geemap-colab {\n",
       "                    background-color: var(--colab-primary-surface-color, white);\n",
       "                }\n",
       "\n",
       "                .geemap-colab .jupyter-button {\n",
       "                    --jp-layout-color3: var(--colab-primary-surface-color, white);\n",
       "                }\n",
       "            </style>\n",
       "            "
      ],
      "text/plain": [
       "<IPython.core.display.HTML object>"
      ]
     },
     "metadata": {},
     "output_type": "display_data"
    }
   ],
   "source": [
    "def get_gfs_forecasts(predict_gdf: gpd.GeoDataFrame) -> pd.DataFrame:\n",
    "    \n",
    "    predict_gdf_ee = geemap.gdf_to_ee(predict_gdf)\n",
    "    predict_gdf_ee = predict_gdf_ee.map(lambda f: f.set('sample_dt', ee.Date(f.get('sample_dt')))) # Format dates as ee.Date\n",
    "    forecasts_ee = predict_gdf_ee.map(get_forecasts_for_measurement)\n",
    "    \n",
    "    return geemap.ee_to_df(forecasts_ee.flatten())"
   ]
  }
 ],
 "metadata": {
  "kernelspec": {
   "display_name": ".venv",
   "language": "python",
   "name": "python3"
  },
  "language_info": {
   "codemirror_mode": {
    "name": "ipython",
    "version": 3
   },
   "file_extension": ".py",
   "mimetype": "text/x-python",
   "name": "python",
   "nbconvert_exporter": "python",
   "pygments_lexer": "ipython3",
   "version": "3.12.7"
  }
 },
 "nbformat": 4,
 "nbformat_minor": 2
}
